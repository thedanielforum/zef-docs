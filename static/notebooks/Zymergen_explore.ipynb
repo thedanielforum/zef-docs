{
 "cells": [
  {
   "cell_type": "markdown",
   "metadata": {},
   "source": [
    "The idea of this tutorial is to show some of the structure of the graph used to\n",
    "describe a Zymergen module and how a schedule is represented on the graph.\n",
    "\n",
    "It aims to do this by natural exploration and minimizes required prior\n",
    "knowledge. Images will also be neglected from this tutorial: even though they\n",
    "would help understand this particular graph, we would like to show how only the\n",
    "built-in tools of ZefDB should be sufficient to understand a graph structure."
   ]
  },
  {
   "cell_type": "markdown",
   "metadata": {},
   "source": [
    "# 1. Start ZefDB and view a graph"
   ]
  },
  {
   "cell_type": "code",
   "execution_count": null,
   "metadata": {},
   "outputs": [],
   "source": [
    "from zefdb import *\n",
    "from zefdb.zefops import *"
   ]
  },
  {
   "cell_type": "markdown",
   "metadata": {},
   "source": [
    "These are the standard imports of any zef session. To find all graphs with zymergen in their name:"
   ]
  },
  {
   "cell_type": "code",
   "execution_count": null,
   "metadata": {},
   "outputs": [],
   "source": [
    "zearch(\"zymergen\")"
   ]
  },
  {
   "cell_type": "markdown",
   "metadata": {},
   "source": [
    "We import one of these graphs and look at its basic information:"
   ]
  },
  {
   "cell_type": "code",
   "execution_count": null,
   "metadata": {},
   "outputs": [],
   "source": [
    "g = Graph(\"zymergen-scenario1\")\n",
    "g | info"
   ]
  },
  {
   "cell_type": "markdown",
   "metadata": {},
   "source": [
    "> ### Note:\n",
    "> The syntax `g|info` could also be written as `info(g)`. This type of function is known as a \"zefop\", which allows its first argument to be piped into it, allowing for operator chaining. Other zefops can include curried information, e.g. `list | filter[...]`"
   ]
  },
  {
   "cell_type": "markdown",
   "metadata": {},
   "source": [
    "The output of the info command can be long, but for now, we are only interested in the top sections. There is some general summary of the graph, followed by a list of atomic entities (AETs), entities (ETs) and relations (RTs). In traditional graph terminology, graphs are made up of nodes and edges, in a Zef graph these are entities and relations. In addition an atomic entity is an entity that can have a value. Let's focus on the entities alone, which should look something like this:\n",
    "\n",
    "```\n",
    "^^^^^^^^^^^^^^^^^^^^^^^^^^^^^^^^^^^^^^^^^  Entities ^^^^^^^^^^^^^^^^^^^^^^^^^^^^^^^^^^^^^^^\n",
    "[3 total, 3 alive]             ET.AnyOf\n",
    "[6 total, 6 alive]             ET.Submodule\n",
    "[5 total, 5 alive]             ET.Handoff\n",
    "[11 total, 11 alive]           ET.InternalLocation\n",
    "[17 total, 17 alive]           ET.Recipe\n",
    "[5 total, 5 alive]             ET.Payload\n",
    "[5 total, 5 alive]             ET.ToBeImplemented\n",
    "[5 total, 5 alive]             ET.ZymergenProtocol\n",
    "[13 total, 13 alive]           ET.ZymergenStep\n",
    "[4 total, 4 alive]             ET.SubLocation\n",
    "```"
   ]
  },
  {
   "cell_type": "markdown",
   "metadata": {},
   "source": [
    "Each string beginning with an `ET` represents an entity type. These are first-class citizens in zefdb. An entity type can be accessed via the `ET` object itself. We can assign these to variables, although it is not typical to do this:"
   ]
  },
  {
   "cell_type": "code",
   "execution_count": null,
   "metadata": {},
   "outputs": [],
   "source": [
    "sometype = ET.Payload\n",
    "print(sometype)"
   ]
  },
  {
   "cell_type": "markdown",
   "metadata": {},
   "source": [
    "Behind the scenes, an `ET.Payload` type is represented as a hidden integer (that is, it is \"tokenized\"), which is shared with ZefHub and is the same across all graphs. If you request a new type that doesn't exist, it will be silently registered on ZefHub. Two other tokenized types of this kind exist: `RT` for relations and `EN` for enums:"
   ]
  },
  {
   "cell_type": "code",
   "execution_count": null,
   "metadata": {},
   "outputs": [],
   "source": [
    "print(RT.HasType)\n",
    "print(EN.MachineStatus.Ready)"
   ]
  },
  {
   "cell_type": "markdown",
   "metadata": {},
   "source": [
    "Note that an EN enum has a \"enum type\" (in this case MachineStatus) and an \"enum value\" (in this case Ready). More on these later.\n",
    "\n",
    "Let's get all of the `ET.Submodule`s in the\n",
    "graph, and view more detail on the first one:"
   ]
  },
  {
   "cell_type": "code",
   "execution_count": null,
   "metadata": {},
   "outputs": [],
   "source": [
    "sms = g | instances[now][ET.Submodule]\n",
    "sms | first | info"
   ]
  },
  {
   "cell_type": "markdown",
   "metadata": {},
   "source": [
    "Two more zefops have been used here, `instances` and `first`, as well as a flag `now`.\n",
    "\n",
    "> ### Note:\n",
    "> The line `sms = g | instances[now][ET.Submodule]` in a different universe where ZefDB was written in a traditional programming style, this might have been a single function call `sms = g.get_all_instances(type=ET.Submodule, time=now)`. We mention this only to aid understanding the intent of zefops - in our universe, `get_all_instances` doesn't exist in ZefDB.\n",
    "\n",
    "There are again several sections shown in the `info` output above. The first \"section\" is actually the title \"Historical View\" - the reason for the word \"historical\" will be made clear later. The next section is a general summary, followed by a list of all relations that are connected to this entity, and followed by a timeline of the changes that have occurred to the entity.\n",
    "\n",
    "For now, we are interested in only the relations. Each relation states what it is connected to (the current entity is always on the left) and what is the type of the relation. For example, the first entry states that:\n",
    "* There is a single RT.Name relation, which connects this entity (of type `ET.Submodule`) to an atomic entity of type `AET.String`.\n",
    "* The `ET.Submodule` is the source of the relation and the `AET.String` is the target (observing the `--->` arrow direction)\n",
    "* The relation UID is `0066b7bfbfaa1276a1b4835e9595967b`.\n",
    "* The atomic entity UID is `90ff9867ce5d5ba4897cbdb6dd7e46b3`.\n",
    "* The current value of the atomic entity is \"atc-sm-1\"."
   ]
  },
  {
   "cell_type": "markdown",
   "metadata": {},
   "source": [
    "We can see that this entity is connected to one atomic entity string which is its name, with another outward relation to a `ET.SubmoduleType`. The other relations are incoming `RT.Within` relations."
   ]
  },
  {
   "cell_type": "markdown",
   "metadata": {},
   "source": [
    "> ### Note\n",
    "> An atomic entity and an entity function have a similar purpose. The only differences are:\n",
    "> 1. an atomic entity can have a value, that may change in time, and\n",
    "> 2. an atomic entity's type is restricted to a set of primitive values, e.g. `AET.Int`. It cannot be `AET.MyCustomType` for example."
   ]
  },
  {
   "cell_type": "markdown",
   "metadata": {},
   "source": [
    "> ### Note:\n",
    "> UIDs are helpful especially when errors occur. You can access a reference to an entity/relation by its UID using this syntax: `g[\"0066b7bfbfaa1276a1b4835e9595967b\"]`."
   ]
  },
  {
   "cell_type": "markdown",
   "metadata": {},
   "source": [
    "# 2. Diving into particular entities"
   ]
  },
  {
   "cell_type": "markdown",
   "metadata": {},
   "source": [
    "Let's get the detailed information for each submodule:"
   ]
  },
  {
   "cell_type": "code",
   "execution_count": null,
   "metadata": {},
   "outputs": [],
   "source": [
    "details = []\n",
    "for sm in sms:\n",
    "    details.append({\"z\": sm,\n",
    "                    \"name\": sm >> RT.Name | value.String,\n",
    "                    \"type\": sm >> RT.HasType >> RT.Name | value.String})\n",
    "details"
   ]
  },
  {
   "cell_type": "markdown",
   "metadata": {},
   "source": [
    "We used `>>` to traverse a relation to its target and `| value` to get the value of\n",
    "the atomic entity we landed on. To interpret the output, we see that there are 6\n",
    "submodules, 4 of type `\"atc\"` and each uniquely named. The item `'z'` is\n",
    "the `ZefRef` that corresponds to that entity. `ZefRef`s are the standard type to\n",
    "refer to all graph entities and relations, encoding what and when you \n",
    "have looked at an entity or relation."
   ]
  },
  {
   "cell_type": "markdown",
   "metadata": {},
   "source": [
    "> ### Note\n",
    "> `value.String` does not strictly require the `.String` part here but it allows compilable languages (C++, Julia) to take advantage of inferring the type, hence it is good practice to include when possible."
   ]
  },
  {
   "cell_type": "markdown",
   "metadata": {},
   "source": [
    "Although we show the types of each submodule as strings, these are actually\n",
    "the one entity (with a value of a string) on the graph themselves. The UID of\n",
    "the `ET.SubmoduleType` entity indicates this:"
   ]
  },
  {
   "cell_type": "code",
   "execution_count": null,
   "metadata": {},
   "outputs": [],
   "source": [
    "sm_dict = {item['name']: item for item in details};"
   ]
  },
  {
   "cell_type": "code",
   "execution_count": null,
   "metadata": {},
   "outputs": [],
   "source": [
    "(sm_dict['atc-sm-1']['z'] >> RT.HasType) == (sm_dict['atc-sm-2']['z'] >> RT.HasType)"
   ]
  },
  {
   "cell_type": "code",
   "execution_count": null,
   "metadata": {},
   "outputs": [],
   "source": [
    "print(sm_dict['atc-sm-1']['z'] >> RT.HasType | uid)\n",
    "print(sm_dict['atc-sm-2']['z'] >> RT.HasType | uid)\n",
    "print(sm_dict['atc-sm-3']['z'] >> RT.HasType | uid)\n",
    "print(sm_dict['atc-sm-4']['z'] >> RT.HasType | uid)"
   ]
  },
  {
   "cell_type": "markdown",
   "metadata": {},
   "source": [
    "Using the zefop `outs` to get all outgoing relations, we can see that all of the submodule entities have a similiar structure, although the magnemotion submodule has an extra relation, capacity, in addition to its\n",
    "name and type:"
   ]
  },
  {
   "cell_type": "code",
   "execution_count": null,
   "metadata": {},
   "outputs": [],
   "source": [
    "mm_out_edges = sm_dict['magnemotion-sm-1']['z'] | outs\n",
    "[RT(out) for out in mm_out_edges]"
   ]
  },
  {
   "cell_type": "code",
   "execution_count": null,
   "metadata": {},
   "outputs": [],
   "source": [
    "sm_dict['magnemotion-sm-1']['z'] >> RT.Capacity | value"
   ]
  },
  {
   "cell_type": "markdown",
   "metadata": {},
   "source": [
    "Whether a relation is always present or only optional can indicate intent of the graph\n",
    "constructor. In this case, there is an implicit assumption that all submodules\n",
    "have a capacity of one, and only if an explicit `RT.Capacity` is given, can that\n",
    "capacity be larger. In this case, the extra information is redundant, as the capacity of the magnemotion is explicitly\n",
    "set to 1 regardless, but in other scenarios it can be higher."
   ]
  },
  {
   "cell_type": "markdown",
   "metadata": {},
   "source": [
    "Try loading the graph \"zymergen-scenario-3\" instead and running some of the commands above."
   ]
  },
  {
   "cell_type": "code",
   "execution_count": null,
   "metadata": {},
   "outputs": [],
   "source": [
    "# g = Graph(\"zymergen-scenario3\")"
   ]
  },
  {
   "cell_type": "markdown",
   "metadata": {},
   "source": [
    "When done, make sure you reload \"zymergen-scenario1\" again, and rerun all cells above this point, before continuing."
   ]
  },
  {
   "cell_type": "markdown",
   "metadata": {},
   "source": [
    "# 3. Exploring sideways\n",
    "\n",
    "Previously, the properites of name and capacity could be considered to\n",
    "\"belong to\" the submodule. This is commonly the case for atomic entities connected to an entity.\n",
    "\n",
    "> #### Note:\n",
    "> In a traditional database, these fields may be wrapped up together into one object, where each object has a definition of what fields it contains. In contrast, ZefDB takes the \"flattening\" approach where entities have no internal fields, and instead represent these with atomic entities. Although it is beyond this tutorial, we can still enforce the expected or required relations that an entity must have. This is done through the \"delegate schema graph\" and through \"Zef hooks\" which are scripts embedded into the graph data.\n",
    "\n",
    "Let's now venture outwards to other objects in the\n",
    "graph. From the original info statement given for the first submodule there were many\n",
    "relations *incoming* to the submodule of type `RT.Within`, as well as an outgoing relation of type `RT.HasType`:"
   ]
  },
  {
   "cell_type": "code",
   "execution_count": null,
   "metadata": {},
   "outputs": [],
   "source": [
    "sms | first | info"
   ]
  },
  {
   "cell_type": "markdown",
   "metadata": {},
   "source": [
    "```\n",
    "    1x:     (z:ET.Submodule) -------------------------(RT.HasType)------------------------> (ET.SubmoduleType)\n",
    "                (z) ----(5bea664061a964568946007a5629f309)---> (5d97d69c363c448bfc1346aa4af1fcd4)\n",
    "                \n",
    "    1x:     (z:ET.Submodule) <-------------------------(RT.Within)------------------------- (ET.Handoff)\n",
    "                (z) <---(3372a9e40c5b39fe31042a20eedf0a6e)---- (755e6906f0b6acce3becaa8d852eebff)\n",
    "    \n",
    "    2x:     (z:ET.Submodule) <-------------------------(RT.Within)------------------------- (ET.InternalLocation)\n",
    "                (z) <---(1dc0b78de4bc95dd11763c902dcbe298)---- (6447b19658d62c42b604be497b806ac7)\n",
    "                (z) <---(2fcb19290641f2586744318ba53787c9)---- (da47ccc385741be560b7b78d9ae4ddf7)\n",
    "```"
   ]
  },
  {
   "cell_type": "markdown",
   "metadata": {},
   "source": [
    "The `RT.Within` relation looks like it describes locations, divided further into\n",
    "two categories of `ET.Handoff` and `ET.InternalLocation`. (Tip: read the relation as\n",
    "\"A is Within this B\", e.g. \"ET.Handoff is RT.Within this ET.Submodule\"). This is\n",
    "referring to the Zymergen transport graph which we will get to later.\n",
    "\n",
    "For now, let's look down the `RT.HasType` relation:"
   ]
  },
  {
   "cell_type": "code",
   "execution_count": null,
   "metadata": {},
   "outputs": [],
   "source": [
    "# The (...) are required for operator precedence. This restriction will be\n",
    "# lifted in the future\n",
    "smtype = (sms | first) >> RT.HasType\n",
    "smtype | info"
   ]
  },
  {
   "cell_type": "markdown",
   "metadata": {},
   "source": [
    "There are two types of incoming relations to this `ET.SubmoduleType` node, we have just traversed one of the `RT.HasType` relations, although there are many of these. Let's check the names of all of these submodules connected by this relation:"
   ]
  },
  {
   "cell_type": "code",
   "execution_count": null,
   "metadata": {},
   "outputs": [],
   "source": [
    "for sm in smtype << L[RT.HasType]:\n",
    "    print(sm >> RT.Name | value)"
   ]
  },
  {
   "cell_type": "markdown",
   "metadata": {},
   "source": [
    "Here the notation `L[...]` is used to obtain a list of all possible nodes at the\n",
    "ends of a `RT.HasType` (the same command without `L[...]` would raise an\n",
    "exception, as it is not clear which edge to traverse). Note also that we use `<<` instead of `>>` to traverse an *incoming* edge instead of\n",
    "an *outgoing* edge. "
   ]
  },
  {
   "cell_type": "markdown",
   "metadata": {},
   "source": [
    "The `L[...]` returns a special kind of list, a `ZefRefs`. Where it would make sense, many zefops can act on both a `ZefRef` and on a `ZefRefs`. For example, we could obtain all names"
   ]
  },
  {
   "cell_type": "code",
   "execution_count": null,
   "metadata": {},
   "outputs": [],
   "source": [
    "names = smtype << L[RT.HasType] >> RT.Name\n",
    "print([z | value for z in names])\n",
    "\n",
    "# The following should work, but we need to fix up the \"lifting\" of the value zefop\n",
    "#smtype << L[RT.HasType] >> RT.Name | value"
   ]
  },
  {
   "cell_type": "markdown",
   "metadata": {},
   "source": [
    "The other interesting part of the `ET.SubmoduleType` entity are its `RT.Alias` relations to `ET.ZymergenProtocol`s which we will now explore."
   ]
  },
  {
   "cell_type": "markdown",
   "metadata": {},
   "source": [
    "# 4. Pincering the protocols\n",
    "\n",
    "We can consider going straight to the `ET.ZymergenProtocol`s directly from the `ET.SubmoduleType` entity, but first let's see how many protocols there are in the graph:"
   ]
  },
  {
   "cell_type": "code",
   "execution_count": null,
   "metadata": {},
   "outputs": [],
   "source": [
    "protocols = g | instances[now][ET.ZymergenProtocol]\n",
    "len(protocols)"
   ]
  },
  {
   "cell_type": "markdown",
   "metadata": {},
   "source": [
    "Notice that there were also 5 `ET.ZymergenProtocol`s connected to the `ET.SubmoduleType`\n",
    "node above. This suggests that these are the same sets. In fact, we can check\n",
    "this more directly:"
   ]
  },
  {
   "cell_type": "code",
   "execution_count": null,
   "metadata": {},
   "outputs": [],
   "source": [
    "protocols | without[smtype << L[RT.Alias]]"
   ]
  },
  {
   "cell_type": "markdown",
   "metadata": {},
   "source": [
    "The `without` zefop does a set difference, and returns a `ZefRefs`. The example above is actually an empty list (observe the `... of len=0 ...` part of the output) which shows that the `smtype` is connected to all protocols on the graph.\n",
    "\n",
    "Let's explore the last protocol from the whole set on the graph:"
   ]
  },
  {
   "cell_type": "code",
   "execution_count": null,
   "metadata": {},
   "outputs": [],
   "source": [
    "protocols | last | info"
   ]
  },
  {
   "cell_type": "markdown",
   "metadata": {},
   "source": [
    "This protocol obviously contains 1 alias and 2 steps. These steps are:"
   ]
  },
  {
   "cell_type": "code",
   "execution_count": null,
   "metadata": {},
   "outputs": [],
   "source": [
    "firststep,laststep = (protocols | last) << L[RT.Protocol]\n",
    "firststep | info"
   ]
  },
  {
   "cell_type": "markdown",
   "metadata": {},
   "source": [
    "Note: although `firststep` and `laststep` turn out to be appropriate names here,\n",
    "the ordering of the list returned from the traversal does not have to be this way. In this case, we can\n",
    "prove the naming is correct by checking the dependency given in the `RT.After` relation:"
   ]
  },
  {
   "cell_type": "code",
   "execution_count": null,
   "metadata": {},
   "outputs": [],
   "source": [
    "(laststep >> RT.After) == firststep"
   ]
  },
  {
   "cell_type": "markdown",
   "metadata": {},
   "source": [
    "There is plenty to explore here. Try exploring, on your own, the `ET.Payload` at\n",
    "the end of the `RT.Payload` relation using similar commands as above."
   ]
  },
  {
   "cell_type": "code",
   "execution_count": null,
   "metadata": {},
   "outputs": [],
   "source": [
    "# Do some graph traversal here yourself\n",
    "\n",
    "# Try to determine\n",
    "# a) the id of the payload\n",
    "# b) the current location of the payload\n",
    "# c) the number of steps involving this payload."
   ]
  },
  {
   "cell_type": "markdown",
   "metadata": {},
   "source": [
    "After that, let's explore the `ET.Recipe` node."
   ]
  },
  {
   "cell_type": "code",
   "execution_count": null,
   "metadata": {},
   "outputs": [],
   "source": [
    "firststep >> RT.Recipe | info"
   ]
  },
  {
   "cell_type": "markdown",
   "metadata": {},
   "source": [
    "This shows the recipe is a thermocycle... but shouldn't there be more\n",
    "information attached? There is, but it is information which is not specific to\n",
    "the recipe alone, but rather applies to the combination of both recipe and step.\n",
    "Hence, this information is stored on the relation which joins the recipe and step: "
   ]
  },
  {
   "cell_type": "code",
   "execution_count": null,
   "metadata": {},
   "outputs": [],
   "source": [
    "(firststep > RT.Recipe) | info"
   ]
  },
  {
   "cell_type": "markdown",
   "metadata": {},
   "source": [
    "Here `>` instead of `>>` was used, to land on the outgoing *relation* rather\n",
    "than following it to its target. Note that the relations shown above have their\n",
    "source as the `RT.Recipe` relation itself. Relations are not restricted\n",
    "to only connect entities together.\n",
    "\n",
    "A similar overload operator `<` exists to land on an *incoming* edge."
   ]
  },
  {
   "cell_type": "markdown",
   "metadata": {},
   "source": [
    "Another similiar case for information residing on an edge is the required\n",
    "location for a payload in a paritcular step. Check this out yourself by\n",
    "following a `ET.ZymergenStep` to an `ET.Payload` but stopping on the edge."
   ]
  },
  {
   "cell_type": "code",
   "execution_count": null,
   "metadata": {},
   "outputs": [],
   "source": [
    "# Traverse the step to its relation RT.Payload and then find the required location.\n",
    "# You will discover that this location is not a simple entity, but a representation of two parts:\n",
    "# a) a \"Within\" to describe the submodule (which is actually an alias)\n",
    "# b) a \"InternalType\" to address a location within that submodule."
   ]
  },
  {
   "cell_type": "markdown",
   "metadata": {},
   "source": [
    "# 5. Transport Graph\n",
    "Let's look at all locations that are within submodules:"
   ]
  },
  {
   "cell_type": "code",
   "execution_count": null,
   "metadata": {},
   "outputs": [],
   "source": [
    "all_within = (g | instances[now][ET.Submodule]) << L[RT.Within]\n",
    "print(all_within)"
   ]
  },
  {
   "cell_type": "markdown",
   "metadata": {},
   "source": [
    "Notice that this returns a `ZefRefss`. A `ZefRefs` is a list of `ZefRef` and a\n",
    "`ZefRefss` is a list of `ZefRefs` (i.e. a nested list of lists of ZefRef types).\n",
    "\n",
    "A `ZefRefss` was returned here, because `instances` gave back a list, and the `<< L[RT.Within]` traversal was performed on every element of that list."
   ]
  },
  {
   "cell_type": "markdown",
   "metadata": {},
   "source": [
    "In the current case, we are not interested in the grouping of these locations,\n",
    "so we can `flatten` them out (i.e. concatenate every list inside the `ZefRefss` into one big `ZefRefs`): "
   ]
  },
  {
   "cell_type": "code",
   "execution_count": null,
   "metadata": {},
   "outputs": [],
   "source": [
    "locations = all_within | flatten\n",
    "print(length(locations))\n",
    "set(ET(z) for z in locations)"
   ]
  },
  {
   "cell_type": "markdown",
   "metadata": {},
   "source": [
    "Locations are divided into two ET types. Let's also divide these into locations that\n",
    "belong to one submodule only or multiple submodules:"
   ]
  },
  {
   "cell_type": "code",
   "execution_count": null,
   "metadata": {},
   "outputs": [],
   "source": [
    "one_sm_locs = locations | filter[lambda z: len(z >> L[RT.Within]) == 1]\n",
    "set(ET(z) for z in one_sm_locs)"
   ]
  },
  {
   "cell_type": "code",
   "execution_count": null,
   "metadata": {},
   "outputs": [],
   "source": [
    "multi_sm_locs = locations | filter[lambda z: len(z >> L[RT.Within]) >= 2]\n",
    "set(ET(z) for z in multi_sm_locs)"
   ]
  },
  {
   "cell_type": "markdown",
   "metadata": {},
   "source": [
    "As could have been guessed, `ET.InternalLocation`s are within only one submodule\n",
    "whereas `ET.Handoff`s are at the boundary of 2 submodules.\n",
    "\n",
    "Looking at a particular location:"
   ]
  },
  {
   "cell_type": "code",
   "execution_count": null,
   "metadata": {},
   "outputs": [],
   "source": [
    "loc = one_sm_locs[0]\n",
    "loc | info"
   ]
  },
  {
   "cell_type": "markdown",
   "metadata": {},
   "source": [
    "there is some local information attached to the location (IsBuffer, IsHandoff,\n",
    "NodeLabel) and a bunch of connections to other locations, given by\n",
    "`RT.CanMoveTo` relations. Following one of these (to the edge, not the target): "
   ]
  },
  {
   "cell_type": "code",
   "execution_count": null,
   "metadata": {},
   "outputs": [],
   "source": [
    "canmoveto = (loc > L[RT.CanMoveTo]) | first\n",
    "canmoveto | info"
   ]
  },
  {
   "cell_type": "markdown",
   "metadata": {},
   "source": [
    "we find an attached recipe. Describing this:"
   ]
  },
  {
   "cell_type": "code",
   "execution_count": null,
   "metadata": {},
   "outputs": [],
   "source": [
    "canmoveto >> RT.Recipe | info\n",
    "(canmoveto > RT.Recipe) | info"
   ]
  },
  {
   "cell_type": "markdown",
   "metadata": {},
   "source": [
    "> ### Note:\n",
    "> Unfortunately brackets are often required (currently) to order zef operations, e.g. `canmoveto > RT.Recipe | info` would cause info to operate on RT.Recipe first. In the future this will be handled using lazily evaluated zefops."
   ]
  },
  {
   "cell_type": "markdown",
   "metadata": {},
   "source": [
    "# 6. Further exploration\n",
    "\n",
    "In this tutorial, we have been limited to only viewing the latest timeslice of the graph. There are several different places to go next:\n",
    "* Appending to the graph (\"mutating\" the graph) - this is described in the `Zymergen write.ipynb` tutorial\n",
    "* Viewing historical information - this is mentioned in the `Zymergen schedules` HOWTO short guides.\n",
    "* Higher level operations (filter, sort, ...)\n",
    "* Adding scripts to the graph that are triggered on particular actions.\n",
    "* Subscribing to events on the graph."
   ]
  },
  {
   "cell_type": "markdown",
   "metadata": {},
   "source": [
    "# 7. List of ZefOps\n",
    "\n",
    "Here is a list of zefops/functions/operators that have been used in the tutorial:\n",
    "#### General\n",
    "* zearch\n",
    "* Graph\n",
    "* info\n",
    "* instances\n",
    "* now\n",
    "* value\n",
    "* RT\n",
    "\n",
    "#### List related\n",
    "* first\n",
    "* last\n",
    "* without\n",
    "* flatten\n",
    "* filter\n",
    "\n",
    "#### Traversal\n",
    "* \\>>\n",
    "* \\>\n",
    "* <<\n",
    "* <\n",
    "* L[...]\n",
    "\n",
    "#### Further zefops to be aware of/whet your appetite:\n",
    "* O[...] - optional (0 or 1) traversal\n",
    "* only - the only item in a list\n",
    "* sort[...] - list sorting\n",
    "* ET - obtain ET type of entity\n",
    "* AET - obtain AET type of entity\n",
    "* EN - enums (e.g. `EN.MachineStatus.Ready`)\n",
    "* subscribe - listen to events on the graph\n",
    "* <= - can be used for value assignment and subtype checking too (e.g. `zefref <= ET.Submodule`)\n",
    "* add_right - user rights management\n",
    "* sync - store graph on zefhub\n",
    "* tag - tag your graph on zefhub"
   ]
  },
  {
   "cell_type": "markdown",
   "metadata": {},
   "source": [
    "# TODO\n",
    "### External graph tools\n",
    "\n",
    "* How to get an adjacency matrix to describe the transport graph.\n",
    "\n",
    "### Challenge questions\n",
    "\n",
    "* Store answers on the graph as \"hidden\" answers."
   ]
  }
 ],
 "metadata": {
  "kernelspec": {
   "display_name": "Python 3",
   "language": "python",
   "name": "python3"
  },
  "language_info": {
   "codemirror_mode": {
    "name": "ipython",
    "version": 3
   },
   "file_extension": ".py",
   "mimetype": "text/x-python",
   "name": "python",
   "nbconvert_exporter": "python",
   "pygments_lexer": "ipython3",
   "version": "3.9.1"
  }
 },
 "nbformat": 4,
 "nbformat_minor": 4
}
