{
 "cells": [
  {
   "cell_type": "markdown",
   "metadata": {},
   "source": [
    "# Zymergen Append Tutorial"
   ]
  },
  {
   "cell_type": "markdown",
   "metadata": {},
   "source": [
    "This tutorial assumes you have already run through the \"Zymergen explore\" tutorial\n",
    "\n",
    "In this tutorial, we'll add information (by hand) to a sample graph.\n",
    "\n",
    "Note that we use the terminology \"append\" rather than \"change\" the graph. This is because we never destroy old information on the graph and merely provide extra information about new entities/relations/values which can be viewing in the latest timeslice."
   ]
  },
  {
   "cell_type": "markdown",
   "metadata": {},
   "source": [
    "# 1. Start ZefDB and load a graph"
   ]
  },
  {
   "cell_type": "code",
   "execution_count": null,
   "metadata": {},
   "outputs": [],
   "source": [
    "from zefdb import *\n",
    "from zefdb.zefops import *"
   ]
  },
  {
   "cell_type": "code",
   "execution_count": null,
   "metadata": {},
   "outputs": [],
   "source": [
    "g_orig = Graph(\"zymergen-scenario1\")\n",
    "g = clone(g_orig)"
   ]
  },
  {
   "cell_type": "markdown",
   "metadata": {},
   "source": [
    "Above, we have cloned the graph. This is only for the purposes of this tutorial, so we can mess it up without changing the original.\n",
    "\n",
    "If you would like to save your changes and return to them, then you should sync your graph to zefhub and tag it with a name. The following commands will only succeed if no existing graph is tagged."
   ]
  },
  {
   "cell_type": "code",
   "execution_count": null,
   "metadata": {},
   "outputs": [],
   "source": [
    "# Come up with your own tag here, e.g. \"my-secret-tag\"\n",
    "tag_name = ..\n",
    "sync(g)\n",
    "tag(g, tag_name)\n",
    "# In the future, you can then load this graph with Graph(\"...\") - by default only you will have access to view/discover/append to this graph."
   ]
  },
  {
   "cell_type": "markdown",
   "metadata": {},
   "source": [
    "# 2. Making basic entities\n",
    "\n",
    "Graph modifications can be divided into three operations:\n",
    "1. Instantiation of an entity/relation/atomic entity\n",
    "2. Assignment of a value to an atomic entity.\n",
    "3. Termination of an entity/relation/atomic entity\n",
    "\n",
    "There are no other ways to affect the graph data."
   ]
  },
  {
   "cell_type": "markdown",
   "metadata": {},
   "source": [
    "## Instantiation\n",
    "A simple example:"
   ]
  },
  {
   "cell_type": "code",
   "execution_count": null,
   "metadata": {},
   "outputs": [],
   "source": [
    "# Entities are given with a single ET\n",
    "payload = instantiate(ET.Payload, g)\n",
    "\n",
    "# Atomic entities are the same, but with an AET\n",
    "id = instantiate(AET.String, g)\n",
    "\n",
    "# Relations require two ZefRefs (the source/target), sandwiched with an RT\n",
    "rel = instantiate(payload, RT.ID, id, g)"
   ]
  },
  {
   "cell_type": "code",
   "execution_count": null,
   "metadata": {},
   "outputs": [],
   "source": [
    "print(payload)\n",
    "print(id)\n",
    "print(rel)"
   ]
  },
  {
   "cell_type": "markdown",
   "metadata": {},
   "source": [
    "We have instantiated a simple entity of type `ET.Payload` and connected it to a string atomic entity (which currently contains no value) via a relation `RT.ID`. Each instantiation returned a `ZefRef`, which is a reference to the entity/relation and its frame of reference.\n",
    "\n",
    "The first thing you might like to do is check the info of the payload:"
   ]
  },
  {
   "cell_type": "code",
   "execution_count": null,
   "metadata": {},
   "outputs": [],
   "source": [
    "payload | info"
   ]
  },
  {
   "cell_type": "markdown",
   "metadata": {},
   "source": [
    "There seems to be a problem! This payload should be connected to a string, but it currently looks like it is connected to nothing. The issue is that we are viewing the payload in an old frame of reference. The timeslice of the `ZefRef` is `2` (which can be found from the `Seen from: 2` text, or the `ts=2` in the short summary).\n",
    "\n",
    "Let's instead look at the payload from the latest frame of reference:"
   ]
  },
  {
   "cell_type": "code",
   "execution_count": null,
   "metadata": {},
   "outputs": [],
   "source": [
    "payload | now | info"
   ]
  },
  {
   "cell_type": "markdown",
   "metadata": {},
   "source": [
    "Now things look better, that we are viewing the `ZefRef` in timeslice 4. This is very common mistake to make while viewing/testing Zef at the REPL. However, in functions and other codes this is avoided by the use of common frames of reference.\n",
    "\n",
    "> #### Note:\n",
    "> The way that ZefDB requires a explicit advancing of the reference frame (e.g. using `now`) means that it is always \"safe\" to explore a graph from a particular ZefRef. `payload | info` will never change, even if someone else added to this graph, because `payload` is fixed to a reference frame. In this way, it allows functions acting on `ZefRef`s to be pure, i.e. they will always produce the same output for the same input. On the other hand, `payload | now` is \"unsafe\", as calling this twice at different points in time can result in different behaviour.\n",
    "\n",
    "Really, we shouldn't have created these objects in separate timeslices in the first place. Let's create a new payload with it's ID in one go:"
   ]
  },
  {
   "cell_type": "code",
   "execution_count": null,
   "metadata": {},
   "outputs": [],
   "source": [
    "I = lambda *args: instantiate(*args, g)\n",
    "\n",
    "with Transaction(g):\n",
    "    payload2 = I(ET.Payload)\n",
    "    I(payload2, RT.ID, I(AET.String))"
   ]
  },
  {
   "cell_type": "markdown",
   "metadata": {},
   "source": [
    "Here we have also defined a shorthand `I()` to more compactly represent the process. In the above, only one timeslice (or rather, one transaction) is created. Hence the info statement will produce the information we expect straight away:"
   ]
  },
  {
   "cell_type": "code",
   "execution_count": null,
   "metadata": {},
   "outputs": [],
   "source": [
    "payload2 | info"
   ]
  },
  {
   "cell_type": "markdown",
   "metadata": {},
   "source": [
    "Transactions are important. They are always required, and will be created automatically if you do not explicitly specify them, but this will typically result in more transactions that you want.\n",
    "\n",
    "The `with Transaction` context manager can be nested, and inner `with Transactions` will be swallowed by the outermost `with Transaction`s, resulting in only one transaction being created. So when in doubt, wrap everything in a Transaction.\n",
    "\n",
    "> #### Note:\n",
    "> In the future, transactions will also allow for \"roll-back\" if an unexpected error is encountered, before the data is added to the graph. At the moment this hasn't been implemented."
   ]
  },
  {
   "cell_type": "markdown",
   "metadata": {},
   "source": [
    "## Value assignment\n",
    "\n",
    "Entities and relations are useful to express relationships but typically we need some primitive data too. This can be given in a simple value assignment by using the `<=` operator:"
   ]
  },
  {
   "cell_type": "code",
   "execution_count": null,
   "metadata": {},
   "outputs": [],
   "source": [
    "id = payload2 >> RT.ID\n",
    "id <= \"second payload\"\n",
    "payload2_after_first_assignment = payload2 | now"
   ]
  },
  {
   "cell_type": "code",
   "execution_count": null,
   "metadata": {},
   "outputs": [],
   "source": [
    "payload2_after_first_assignment | info"
   ]
  },
  {
   "cell_type": "markdown",
   "metadata": {},
   "source": [
    "A value assignment also creates a transaction. Hence, we could update the id and view it within both timeslices:"
   ]
  },
  {
   "cell_type": "code",
   "execution_count": null,
   "metadata": {},
   "outputs": [],
   "source": [
    "id <= \"second payload updated\"\n",
    "payload2_after_second_assignment = payload2 | now"
   ]
  },
  {
   "cell_type": "code",
   "execution_count": null,
   "metadata": {},
   "outputs": [],
   "source": [
    "payload2_after_first_assignment >> RT.ID | value"
   ]
  },
  {
   "cell_type": "code",
   "execution_count": null,
   "metadata": {},
   "outputs": [],
   "source": [
    "payload2_after_second_assignment >> RT.ID | value"
   ]
  },
  {
   "cell_type": "markdown",
   "metadata": {},
   "source": [
    "We can even look at the atomic entity's value before it was assigned. In this case it will be `None`"
   ]
  },
  {
   "cell_type": "code",
   "execution_count": null,
   "metadata": {},
   "outputs": [],
   "source": [
    "payload2 >> RT.ID | value is None"
   ]
  },
  {
   "cell_type": "markdown",
   "metadata": {},
   "source": [
    "> ### Note:\n",
    "> Traversing a graph from a particular frame of reference, will keep you in that frame of reference. That is, `payload >> RT.ID` will return a `ZefRef` of the same timeslice as `payload`. It is purposely difficult to \"escape\" a timeslice without explicit commands, although `instantiate` is one key counterexample."
   ]
  },
  {
   "cell_type": "markdown",
   "metadata": {},
   "source": [
    "Even though these two `ZefRef`s to the payload refer to the same entity, they are within different timeslices. Hence they cannot be compared to one another. If you attempt to do so, ZefDB will throw an error warning you about this: "
   ]
  },
  {
   "cell_type": "code",
   "execution_count": null,
   "metadata": {},
   "outputs": [],
   "source": [
    "payload2_after_first_assignment == payload2_after_second_assignment"
   ]
  },
  {
   "cell_type": "markdown",
   "metadata": {},
   "source": [
    "If you wish to compare the \"identity\" of an entity, you can do this via a `UZefRef` (more on this later) or via the index/uid of an entity:"
   ]
  },
  {
   "cell_type": "code",
   "execution_count": null,
   "metadata": {},
   "outputs": [],
   "source": [
    "print(payload2_after_first_assignment | to_uzefref == payload2_after_second_assignment | to_uzefref)\n",
    "print(index(payload2_after_first_assignment), index(payload2_after_second_assignment))\n",
    "print(uid(payload2_after_first_assignment), uid(payload2_after_second_assignment))"
   ]
  },
  {
   "cell_type": "markdown",
   "metadata": {},
   "source": [
    "> ### Note:\n",
    "> It doesn't matter from what frame of reference you update an atomic entity's value, it will always become the latest value. So `ae <= 3 ; ae <= 4` is equivalent to `ae | now <= 3 ; ae | now <= 4`"
   ]
  },
  {
   "cell_type": "markdown",
   "metadata": {},
   "source": [
    "## Convenience functions\n",
    "\n",
    "Now that we have seen how to instantiate and value assign, there is little more needed to generate an entire graph filled with data. However, there are one or two convenience functions to help with this.\n",
    "\n",
    "`attach` is a zefop that attaches \"fields\" to an entity/relation:"
   ]
  },
  {
   "cell_type": "code",
   "execution_count": null,
   "metadata": {},
   "outputs": [],
   "source": [
    "with Transaction(g):\n",
    "    payload3 = instantiate(ET.Payload, g) | attach[RT.ID, \"third payload\"]"
   ]
  },
  {
   "cell_type": "code",
   "execution_count": null,
   "metadata": {},
   "outputs": [],
   "source": [
    "payload3 | info"
   ]
  },
  {
   "cell_type": "markdown",
   "metadata": {},
   "source": [
    "This is roughly equivalent to the code:"
   ]
  },
  {
   "cell_type": "code",
   "execution_count": null,
   "metadata": {},
   "outputs": [],
   "source": [
    "with Transaction(g):\n",
    "    payload3 = instantiate(ET.Payload, g)\n",
    "    temp = instantiate(AET.String, g)\n",
    "    temp <= \"third payload\"\n",
    "    instantiate(payload3, RT.ID, temp, g)"
   ]
  },
  {
   "cell_type": "markdown",
   "metadata": {},
   "source": [
    "`attach` returns the original entity itself, allowing for chaining, and can be used to quickly build up tree-like structures. Graph structures with loops still require several separate statements.\n",
    "\n",
    "You can either call `attach` consequetively multiple times, or provide a list of tuples to a single `attach` call. Both are demonstrated below:"
   ]
  },
  {
   "cell_type": "code",
   "execution_count": null,
   "metadata": {},
   "outputs": [],
   "source": [
    "with Transaction(g):\n",
    "    sm = I(ET.Submodule) | attach[[\n",
    "        (RT.Name, \"atc-1\"),\n",
    "        (RT.HasType, I(ET.SubmoduleType) | attach[[\n",
    "            (RT.Name, \"atc\")\n",
    "        ]]),\n",
    "        (RT.Capacity, 1)\n",
    "    ]]\n",
    "    \n",
    "    loc = (I(ET.Location)\n",
    "           | attach[RT.Within, sm]\n",
    "           | attach[RT.Name, \"atc-1-nest\"])\n",
    "    \n",
    "    step = I(ET.ZymergenStep) | attach[[\n",
    "        (RT.ZymergenUUID, \"a-b-c-d-e\"),\n",
    "        (RT.Submodule, sm),\n",
    "        (RT.Payload, I(ET.Payload) | attach[[\n",
    "            (RT.ID, \"123\"),\n",
    "            (RT.Location, loc)\n",
    "        ]])\n",
    "    ]]"
   ]
  },
  {
   "cell_type": "code",
   "execution_count": null,
   "metadata": {},
   "outputs": [],
   "source": [
    "loc == (loc >> RT.Within << RT.Submodule >> RT.Payload >> RT.Location)"
   ]
  },
  {
   "cell_type": "markdown",
   "metadata": {},
   "source": [
    "Note: the above is more of an illustration, and is not how a graph would typically be built up."
   ]
  },
  {
   "cell_type": "markdown",
   "metadata": {},
   "source": [
    "## Termination"
   ]
  },
  {
   "cell_type": "markdown",
   "metadata": {},
   "source": [
    "The final effect that can be made to the graph is to terminate a relation or entity. This is final: after termination, an entity cannot be reinstantiated, although a new entity with a new uid could be instantiated in its place:"
   ]
  },
  {
   "cell_type": "code",
   "execution_count": null,
   "metadata": {},
   "outputs": [],
   "source": [
    "terminate(sm)"
   ]
  },
  {
   "cell_type": "markdown",
   "metadata": {},
   "source": [
    "Any entity termination also terminates any relations connected to it. Hence, the following code should throw an error:"
   ]
  },
  {
   "cell_type": "code",
   "execution_count": null,
   "metadata": {},
   "outputs": [],
   "source": [
    "(loc | now) >> RT.Within"
   ]
  },
  {
   "cell_type": "markdown",
   "metadata": {},
   "source": [
    "Note that the terminated entity is still accessible in historical timeslices, and the variable `loc` (without `|now`) still points at an older timeslice where the submodule has not been terminated:"
   ]
  },
  {
   "cell_type": "code",
   "execution_count": null,
   "metadata": {},
   "outputs": [],
   "source": [
    "loc >> RT.Within"
   ]
  },
  {
   "cell_type": "markdown",
   "metadata": {},
   "source": [
    "It is possible to ask if an entity is currently alive, without resorting to exception checking:"
   ]
  },
  {
   "cell_type": "code",
   "execution_count": null,
   "metadata": {},
   "outputs": [],
   "source": [
    "# The commented line should work in the future:\n",
    "#sm | exists_at[now]\n",
    "sm | to_uzefref | exists_at[g|now]"
   ]
  },
  {
   "cell_type": "markdown",
   "metadata": {},
   "source": [
    "Similarly, we can ask if an entity existed in the past, by using the `tx` zefop to obtain the timeslice of a `ZefRef`:"
   ]
  },
  {
   "cell_type": "code",
   "execution_count": null,
   "metadata": {},
   "outputs": [],
   "source": [
    "sm | to_uzefref | exists_at[payload|tx]"
   ]
  },
  {
   "cell_type": "code",
   "execution_count": null,
   "metadata": {},
   "outputs": [],
   "source": [
    "sm | to_uzefref | exists_at[loc|tx]"
   ]
  },
  {
   "cell_type": "markdown",
   "metadata": {},
   "source": [
    "> #### Note:\n",
    "> A `ZefRef` is actually just a pair of `UZefRef`s: one to point to the raw entity/relation blob, and one to point to a transaction blob (that is, the timeslice). While most zefops should happily accept either a `ZefRef` or a `UZefRef`, there are several functions (for example `exists_at`) which have not yet been extended to allow a `ZefRef` argument. It is highly recommended to work with `ZefRef`s as much as possible unless the context (or missing implementation of a overloaded function) demands it.\n",
    ">\n",
    "> For example, `sm | to_uzefref | outs` will show all out relations from all timeslices attached to the `sm` entity, and some of these relations may not exist simultaneously in any timeslice. This is almost certainly not what is intended in user code. It will also show \"low-level graph edges\" which represent the supporting data to the \"high-level graph\" which is the user-facing Zef graph. Unless absolutely needed, avoid `UZefRef`.\n",
    ">\n",
    "> If you are curious about the low-level graph, try these commands: `list(sm | to_uzefref | ins)` and `(sm | to_uzefref) << BT.REL_ENT_INSTANCE`"
   ]
  },
  {
   "cell_type": "markdown",
   "metadata": {},
   "source": [
    "# Importing configs\n",
    "\n",
    "To put some of the above to the test, I have included an example of loading a `config.json` file from the toy problems.\n",
    "\n",
    "This code is written in Julia, however the Zef parts of it are nearly identical. I have included comments to explain a few choices"
   ]
  },
  {
   "cell_type": "code",
   "execution_count": null,
   "metadata": {},
   "outputs": [],
   "source": [
    "function LoadEverything(path, g=Graph())\n",
    "    # Lookup is a dictionary to keep track of names/Zymergen uids with ZefRefs\n",
    "    lookup = Dict()\n",
    "    cd(path) do\n",
    "        Transaction(g) do ctx\n",
    "            LoadConfig(g, lookup)\n",
    "            LoadTransport(g, lookup)\n",
    "            LoadInventory(g, lookup)\n",
    "            LoadProtocols(g, lookup)\n",
    "\n",
    "            # This is unusual and needs to be handled in a better way\n",
    "            for loc in g | instances[now][ET.InternalLocation] | filter[z -> contains(z >> RT.NodeLabel | value.String, \"storage\")]\n",
    "                loc | attach[RT.Capacity => 100]\n",
    "            end\n",
    "        end\n",
    "    end\n",
    "\n",
    "    g,lookup\n",
    "end\n",
    "\n",
    "using JSON.Parser: parsefile\n",
    "\n",
    "function LoadConfig(g, lookup)\n",
    "    # This is a convenience equivalent to I = lambda *args: instantiate(*args, g) in python\n",
    "    I = instantiate(g)\n",
    "    data = parsefile(\"config.json\")\n",
    "    @assert keys(data) ⊆ [\"submodules\", \"storage_smts\"]\n",
    "\n",
    "    for (key,item) in data[\"submodules\"]\n",
    "        typ = item[\"type\"]\n",
    "        # If this is a new type of submodule we haven't seen before, add it in as an entity.\n",
    "        if typ ∉ keys(lookup)\n",
    "            lookup[typ] = I(ET.SubmoduleType) | attach[RT.Name => typ]\n",
    "        end\n",
    "\n",
    "        z = I(ET.Submodule) | attach[RT.Name => key,\n",
    "                                     RT.HasType => lookup[typ]]\n",
    "        \n",
    "        # Sometimes capacity is included in the keys.\n",
    "        if \"capacity\" ∈ keys(item)\n",
    "            z | attach[RT.Capacity => item[\"capacity\"]]\n",
    "        end\n",
    "        lookup[key] = z\n",
    "    end\n",
    "end\n",
    "\n",
    "# Other LoadX functions below here..."
   ]
  },
  {
   "cell_type": "code",
   "execution_count": null,
   "metadata": {},
   "outputs": [],
   "source": []
  }
 ],
 "metadata": {
  "kernelspec": {
   "display_name": "Python 3",
   "language": "python",
   "name": "python3"
  },
  "language_info": {
   "codemirror_mode": {
    "name": "ipython",
    "version": 3
   },
   "file_extension": ".py",
   "mimetype": "text/x-python",
   "name": "python",
   "nbconvert_exporter": "python",
   "pygments_lexer": "ipython3",
   "version": "3.9.1"
  }
 },
 "nbformat": 4,
 "nbformat_minor": 4
}
