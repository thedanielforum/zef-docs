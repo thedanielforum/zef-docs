{
 "cells": [
  {
   "cell_type": "code",
   "execution_count": null,
   "id": "c496e926-7494-40f5-a8f5-66493bf95da6",
   "metadata": {},
   "outputs": [],
   "source": [
    "# These commands set up zef for a Google Colab environment\n",
    "!pip install --upgrade zef\n",
    "import os; os.environ[\"ZEFDB_OFFLINE_MODE\"] = \"TRUE\""
   ]
  },
  {
   "cell_type": "markdown",
   "id": "37a0f3a8-a4c2-4686-ad9a-18356ae23517",
   "metadata": {},
   "source": [
    "# Introduction\n",
    "\n",
    "There are many features of the zef ecosystem to explore but several are core\n",
    "concepts from which the rest can be understood. This tutorial aims to quickly\n",
    "demonstrate the core parts of the zef language. At the end, you should\n",
    "understand:\n",
    "\n",
    "- How to query a graph, by traversing relations and accessing atomic values.\n",
    "- Append new information to a graph using the transact and shorthand syntaxes.\n",
    "- Understand how to use the lazy zef operator syntax.\n",
    "- Be able to share your graph with others and collaborate.\n",
    "\n",
    "In particular, these programmatic operations and types will be covered:\n",
    "\n",
    "- `Graph`\n",
    "- `ZefRef`\n",
    "- `GraphDelta`\n",
    "- `ET`, `RT`\n",
    "- `Out`, `In`, `out_rel`, `in_rel`, `Outs`, `Ins`\n",
    "- `collect`, `run`, `for_each`\n",
    "- `Z[\"...\"]`\n",
    "- `now`, `value`, `single`, `terminate`, `map`, `uid`, `all`, `frame`"
   ]
  },
  {
   "cell_type": "markdown",
   "id": "1a4b9dfc-2263-4fb3-a1fd-85f262cc0659",
   "metadata": {},
   "source": [
    "# Goal\n",
    "\n",
    "Let's create a database representation of something similar to the relation database shown at [https://www.sqltutorial.org/sql-sample-database/](https://www.sqltutorial.org/sql-sample-database/).\n",
    "\n",
    "![](https://www.sqltutorial.org/wp-content/uploads/2016/04/SQL-Sample-Database-Schema.png)\n",
    "\n",
    "This information is meant to describe a company's distribution of employees,\n",
    "jobs and departments. As we are using a graph database, we will not duplicate\n",
    "this exact structure as it is inflexible. Instead, we will show some of the unique\n",
    "flexibility of graph databases and zefDB's flat layout. In this tutorial, the\n",
    "equivalent graph layout to the above relational table layout will be:\n",
    "\n",
    "![](graph_layout.svg)\n",
    "\n",
    "where `*` indicates multiple relations may be present."
   ]
  },
  {
   "cell_type": "markdown",
   "id": "1e6799a3-fcac-4529-a3ed-fbc2b3150e1c",
   "metadata": {
    "tags": []
   },
   "source": [
    "## Filling in some structure\n",
    "\n",
    "Firstly, create a blank graph and add to it some entities representing people and departments."
   ]
  },
  {
   "cell_type": "code",
   "execution_count": 78,
   "id": "96970172-ef95-493d-83bd-1af3e01d86d3",
   "metadata": {},
   "outputs": [],
   "source": [
    "from zef import *\n",
    "from zef.ops import *\n",
    "\n",
    "g = Graph()"
   ]
  },
  {
   "cell_type": "markdown",
   "id": "ea863e58-5de1-441a-8023-7328d7154685",
   "metadata": {},
   "source": [
    "Creating a graph is done with `Graph()`. By default, this creates a local graph\n",
    "which is not synchronized with ZefHub."
   ]
  },
  {
   "cell_type": "code",
   "execution_count": 79,
   "id": "358babd6-d12f-4bcb-a3c1-a7075721da4d",
   "metadata": {},
   "outputs": [],
   "source": [
    "z_alice = ET.Employee | g | run\n",
    "z_bob = ET.Employee | g | run\n",
    "z_charlie = ET.Employee | g | run\n",
    "z_alex = ET.Employee | g | run\n",
    "\n",
    "z_hr = ET.Department | g | run\n",
    "z_research = ET.Department | g | run\n",
    "\n",
    "(z_alice, RT.WorksFor, z_research) | g | run\n",
    "(z_bob, RT.WorksFor, z_hr) | g | run\n",
    "(z_charlie, RT.WorksFor, z_hr) | g | run\n",
    "(z_charlie, RT.WorksFor, z_research) | g | run;"
   ]
  },
  {
   "cell_type": "markdown",
   "id": "d3fbafd4-c2ce-4836-bad2-90d88e93a736",
   "metadata": {},
   "source": [
    "The notation `<template> | g` creates an `Effect` to append a single fact to the\n",
    "graph. We `run` this effect, and the return value is a `ZefRef` which is a\n",
    "reference to that created entity or relation. In this list we have two \"types\"\n",
    "which are an entity type `ET` and a relation type `RT`. You can think of these\n",
    "as nearly equivalent to a string naming the type."
   ]
  },
  {
   "cell_type": "code",
   "execution_count": 80,
   "id": "44dbf1a1-e9ff-426f-85cd-80970145f7f5",
   "metadata": {},
   "outputs": [
    {
     "data": {
      "text/plain": [
       "<ZefRef #97 ET.Employee slice=2>"
      ]
     },
     "execution_count": 80,
     "metadata": {},
     "output_type": "execute_result"
    }
   ],
   "source": [
    "z_alice"
   ]
  },
  {
   "cell_type": "code",
   "execution_count": 81,
   "id": "f020a189-6632-45e2-a28d-0f9e66b38a0c",
   "metadata": {},
   "outputs": [
    {
     "data": {
      "text/plain": [
       "<ZefRef #171 ET.Department slice=6>"
      ]
     },
     "execution_count": 81,
     "metadata": {},
     "output_type": "execute_result"
    }
   ],
   "source": [
    "z_hr"
   ]
  },
  {
   "cell_type": "markdown",
   "id": "11edf210-feb9-49bf-9e76-70e306be4676",
   "metadata": {},
   "source": [
    ":::info\n",
    "\n",
    "An `ET.Something` or `RT.Something` will add a new type or reuse an existing\n",
    "type. Under the hood, these are tokenized to integers for optimized accesses and\n",
    "are consistent across different graphs.\n",
    "\n",
    "Don't be afraid to create new types. As you add new types, they will be added to\n",
    "your user namespace, and can be later \"forgotten\" if you would like to clean up\n",
    "your namespace.\n",
    "\n",
    ":::"
   ]
  },
  {
   "cell_type": "markdown",
   "id": "2533d216-7086-4873-af45-d7d0a828a51b",
   "metadata": {},
   "source": [
    "A key difference here to a relational database is that the employee can have\n",
    "multiple relations to different departments, a feature which typically requires\n",
    "multiple table rows in a relational database. In the above, Charlie can work for\n",
    "both the HR and Research departments. In contrast, Alex works for no department\n",
    "(maybe they are a new hire or an intern).\n",
    "\n",
    "The input of the data above is a little clumsy and verbose. We could compress many of the elements into fewer templates:"
   ]
  },
  {
   "cell_type": "code",
   "execution_count": 82,
   "id": "dbe7392a-3d0b-49c1-9b28-8f7dcfcc3dee",
   "metadata": {},
   "outputs": [],
   "source": [
    "g = Graph()\n",
    "\n",
    "[z_alice,z_bob,z_charlie,z_alex,\n",
    " z_hr,z_research] = [ET.Employee, ET.Employee, ET.Employee, ET.Employee,\n",
    "                     ET.Department, ET.Department] | g | run\n",
    "\n",
    "(z_alice, RT.WorksFor, z_research) | g | run\n",
    "(z_bob, RT.WorksFor, z_hr) | g | run\n",
    "(z_charlie, RT.WorksFor, [z_hr, z_research]) | g | run;"
   ]
  },
  {
   "cell_type": "markdown",
   "id": "9735ecfe-8bce-4cb6-982a-5798deecc592",
   "metadata": {},
   "source": [
    "In the first line, a template consisting of 4 `ET.Employee`s and 2\n",
    "`ET.Department`s requests that 6 new entities be created. The return value is\n",
    "then \"unpacked\" into 6 different variables. The final line of code creates two\n",
    "relations from `z_charlie` to `z_hr` and `z_research`.\n",
    "\n",
    "Even with the compressed syntax there are a couple of problems:\n",
    "- it looks confusing\n",
    "- multiple database transactions are caused by each `... | g | run`.\n",
    "\n",
    "Instead, we can use the `transact` operator:"
   ]
  },
  {
   "cell_type": "code",
   "execution_count": 83,
   "id": "d97ca55f-c6b9-4978-81b9-53ae087d3a4f",
   "metadata": {},
   "outputs": [],
   "source": [
    "g = Graph()\n",
    "\n",
    "receipt = [\n",
    "    ET.Employee[\"alice\"],\n",
    "    ET.Employee[\"bob\"],\n",
    "    ET.Employee[\"charlie\"],\n",
    "    ET.Employee[\"alex\"],\n",
    "\n",
    "    (Z[\"alice\"], RT.WorksFor, Z[\"research\"]),\n",
    "    (Z[\"bob\"], RT.WorksFor, Z[\"hr\"]),\n",
    "    (Z[\"charlie\"], RT.WorksFor, Z[\"hr\"]),\n",
    "    (Z[\"charlie\"], RT.WorksFor, Z[\"research\"]),\n",
    "\n",
    "    ET.Department[\"hr\"],\n",
    "    ET.Department[\"research\"],\n",
    "] | transact[g] | run\n",
    "\n",
    "z_alice = receipt[\"alice\"]\n",
    "z_bob = receipt[\"bob\"]\n",
    "z_charlie = receipt[\"charlie\"]\n",
    "z_alex = receipt[\"alex\"]\n",
    "\n",
    "z_hr = receipt[\"hr\"]\n",
    "z_research = receipt[\"research\"]"
   ]
  },
  {
   "cell_type": "markdown",
   "id": "5c88e03d-de09-4d90-b5fe-9cf1aab3297e",
   "metadata": {},
   "source": [
    "Here, each item in the list passed to the `GraphDelta` is one fact to be added\n",
    "to the database, but all will be done in the one transaction. There are two\n",
    "kinds of facts shown here:\n",
    "\n",
    "1. a new entity (e.g. `ET.Employee`) and\n",
    "2. a new relation `(a, RT.Something, c)`.\n",
    "\n",
    "To connect the facts together, each entity/relation can be given an internal (and temporary) name. A string following an `ET` or `RT` sets this internal name (e.g. `ET.Employee[\"alice\"]`) and the special object `Z` can be used to reference this name (e.g. `Z[\"alice\"]`).\n",
    "\n",
    "After the GraphDelta has been `run` on the graph, a \"receipt\" is returned which allows access to the created\n",
    "entities and relations via their internal names.\n",
    "\n",
    "The order is also not important - for example, the fact describing the relation\n",
    "between `Z[\"alice\"]` and `Z[\"research\"]` is given before the name \"research\"\n",
    "is known (in `ET.Department[\"research\"]`). You can use this to organise the\n",
    "`transact` as makes sense in your particular context."
   ]
  },
  {
   "cell_type": "markdown",
   "id": "f20855d1-ac44-4a92-89c2-a2e55f714326",
   "metadata": {},
   "source": [
    ":::tip\n",
    "\n",
    "One can think of the `Z[\"name\"]` notation as similar to using a variable called\n",
    "`name`. Because a `transact` uses a declaritive style (that is, it\n",
    "declares the facts to create) rather than an imperative style (which would list\n",
    "a series of actions to perform in a specific order) variables are not necessary.\n",
    "\n",
    "For example, the `transact`\n",
    "\n",
    "```py\n",
    "reciept = [\n",
    "    ET.Employee[\"alice\"],\n",
    "    (Z[\"alice\"], RT.WorksFor, Z[\"research\"]),\n",
    "    ET.Department[\"research\"]\n",
    "] | transact[g] | run\n",
    "\n",
    "z_alice = receipt[\"alice\"]\n",
    "z_research = receipt[\"research\"]\n",
    "```\n",
    "\n",
    "could be re-imagined in an imperative style with the pseudo-code (notice the\n",
    "analogy between `Z[\"alice\"]` and `alice`:\n",
    "\n",
    "```py\n",
    "alice = create_entiy(ET.Employee)\n",
    "research = create_entity(ET.Research)\n",
    "link_entities_by_relation(alice, RT.Department, research)\n",
    "```\n",
    "\n",
    "Note this pseudo-code does not work and the functions `create_entity` and\n",
    "`link_entities_by_relation` do not exist!\n",
    "\n",
    ":::"
   ]
  },
  {
   "cell_type": "markdown",
   "id": "5a27f356-8fc6-44cd-966c-d330d078be7c",
   "metadata": {},
   "source": [
    "## Attaching some details\n",
    "\n",
    "The above was only the high-level structure between some employees and some\n",
    "departments. We didn't need to specify exactly what an `ET.Employee`\n",
    "entity is, or what properties it might have. In fact, in zefDB there is no such\n",
    "concept of a \"property\" of an entity. Instead, we use a flat representation to\n",
    "attach other details. For example:"
   ]
  },
  {
   "cell_type": "code",
   "execution_count": 84,
   "id": "f11e0d8c-72d2-42dc-abd7-4e114c752a8f",
   "metadata": {},
   "outputs": [],
   "source": [
    "[\n",
    "    (z_alice, RT.FirstName, \"Alice\"),\n",
    "    (z_alice, RT.LastName, \"Smith\"),\n",
    "    (z_alice, RT.Email, \"alice.smith@invalid.address\"),\n",
    "    (z_alice, RT.Email, \"alice.smith52@backup.address\"),\n",
    "    (z_alice, RT.HireDate, Time(\"2022-01-11\")),\n",
    "    (z_alice, RT.Salary, QuantityFloat(73100.0, EN.Unit.AUD)),\n",
    "\n",
    "    (z_bob, RT.FirstName, \"Bob\"),\n",
    "    # ...\n",
    "    (z_charlie, RT.FirstName, \"Charlie\"),\n",
    "    # ...\n",
    "    (z_alex, RT.FirstName, \"Alex\"),\n",
    "    # ...\n",
    "\n",
    "    (z_hr, RT.Name, \"HR\"),\n",
    "    # ...\n",
    "    (z_research, RT.Name, \"Research\"),\n",
    "    # ...\n",
    "] | transact[g] | run;"
   ]
  },
  {
   "cell_type": "markdown",
   "id": "579194db-9d68-4190-a9e5-826f9256c4e3",
   "metadata": {},
   "source": [
    "We have shown a variety of types available for values. It is possible assign\n",
    "`String`, `Int`, `Float`, `Time`, `QuantityFloat`, `QuantityInt` to what are\n",
    "known as \"atomic entities\". In contrast, entities only have an identity but\n",
    "never a value. To show the current state of `z_alice` use the `yo` op:"
   ]
  },
  {
   "cell_type": "markdown",
   "id": "29dcd34c-0f46-4987-b7db-8175f435645c",
   "metadata": {},
   "source": [
    "```py\n",
    "yo(now(z_alice))                # option 1\n",
    "\n",
    "z_alice | now | yo | collect    # option 2\n",
    "```"
   ]
  },
  {
   "cell_type": "markdown",
   "id": "b082806e-69d9-4987-a6d8-82ddd172412d",
   "metadata": {},
   "source": [
    "You should see something like\n",
    "\n",
    "```text\n",
    "================================================== Historical  View ==================================================\n",
    "===================================== Seen from: 3: 2022-01-12 12:36:28 (+0800)  =================================\n",
    "<...snip...>\n",
    "    1x:     (z:ET.Employee) -------------------------(RT.WorksFor)-----------------------> (ET.Department)\n",
    "                (z) ----(603d3be2b5ba277a48cc05798023a1df)---> (264a2177d0a36cce48cc05798023a1df)\n",
    "\n",
    "    1x:     (z:ET.Employee) ------------------------(RT.FirstName)-----------------------> (AET.String)\n",
    "                (z) ----(8e6809d8f232af7b48cc05798023a1df)---> (72f79ec427603a7448cc05798023a1df [latest val: Alice])\n",
    "<...snip...>\n",
    "    1x:     (z:ET.Employee) -------------------------(RT.HireDate)-----------------------> (AET.Time)\n",
    "                (z) ----(93b8c0bdc806fd6548cc05798023a1df)---> (21157012f1e9d0ad48cc05798023a1df [latest val: 2022-01-11 00:00:00 (+0800)])\n",
    "\n",
    "    1x:     (z:ET.Employee) --------------------------(RT.Salary)------------------------> (AET.QuantityFloat.AUD)\n",
    "                (z) ----(061547c736a45a2648cc05798023a1df)---> (6bd9b5b7b42ea9bb48cc05798023a1df [latest val: <QuantityFloat: 73100 EN.Unit.AUD>])\n",
    "<...snip...>\n",
    "```"
   ]
  },
  {
   "cell_type": "markdown",
   "id": "8e22dc2a-eec8-4ad6-bd8e-bab34a2f48f6",
   "metadata": {},
   "source": [
    "Alice is an employee with many relations heading outwards from the entity. These\n",
    "are all \"at the same level\", i.e. flat. The relation connecting Alice to the\n",
    "research department entity (of type `ET.Department`) is at the same level as the\n",
    "relation connecting Alice to the atomic entity containing her first name \"Alice\"\n",
    "(of type `AET.String`)."
   ]
  },
  {
   "cell_type": "markdown",
   "id": "1edb4aef-f626-48a5-b890-91fc9e7779cb",
   "metadata": {},
   "source": [
    ":::caution\n",
    "\n",
    "If you simply ask for `yo(z_alice)` (try this) you will not see all of the above\n",
    "information. That's because each `ZefRef` is simply a pair of `(identity, reference_frame)` and `z_alice` was returned from a reference frame when the\n",
    "entity was first created, before any of Alice's properties were attached. This should be noticable in the\n",
    "header of the `yo` output above, where the second line shows \"Seen from 3\". This\n",
    "emphasizes that the \"time slice\" (here 3) the information about the entity is\n",
    "shown from may be in the past.\n",
    "\n",
    ":::"
   ]
  },
  {
   "cell_type": "markdown",
   "id": "4e9510d4-a872-4059-be6e-7e442d78023f",
   "metadata": {},
   "source": [
    ":::info \n",
    "\n",
    "Compared with the SQL table definition, Alice is missing several columns:\n",
    "\n",
    "- `employee_id`: this is not needed as every entity on the graph has a unique ID already (try `uid(z_alice)`)\n",
    "- `phone_number`: we chose to not provide a phone number, which is valid on a graph. A relation database might choose to use a sentinel value to indicate a missing phone number instead.\n",
    "- `department_id`: instead of indirectly connecting the employee to a department, we have directly linked the employee using a relation.\n",
    "- `email`: we have provided two email addresses for Alice. This is easy to do in a graph database but requires much forethought in a relational database.\n",
    "\n",
    ":::"
   ]
  },
  {
   "cell_type": "markdown",
   "id": "677eb419-d1bf-4f44-a1e6-1e961abcc15b",
   "metadata": {},
   "source": [
    ":::info\n",
    "\n",
    "Each line in the `GraphDelta` that added one property (e.g. `(z_alice, RT.FirstName, \"Alice\")`) is a shorthand for several elementary operations. The same effect could be obtained via:\n",
    "\n",
    "```\n",
    "ae = AET.String | g | run              # Create the atomic entity without a value\n",
    "ae | assign_value[\"Alice\"] | run       # Assign a value to the atomic entity\n",
    "(z_alice, RT.FirstName, ae) | g | run  # Connect the atomic entity to z_alice\n",
    "# ... the above is the same as ...\n",
    "(z_alice, RT.FirstName, \"Alice\") | g | run\n",
    "```\n",
    "\n",
    ":::"
   ]
  },
  {
   "cell_type": "markdown",
   "id": "c3a93e5e-2702-4c30-8a9e-c9563585e423",
   "metadata": {},
   "source": [
    "## Injecting some elegance\n",
    "\n",
    "While the underlying layout on the graph might be flat, we often think about data in a tree-like manner. So there is another option to provide the information for an entity:"
   ]
  },
  {
   "cell_type": "code",
   "execution_count": 85,
   "id": "e5e1ddc7-99f5-42fa-b4d3-64c35ca9dc50",
   "metadata": {},
   "outputs": [],
   "source": [
    "{z_bob: {\n",
    "    #RT.FirstName: \"Bob\", # This is commented out to prevent adding a RT.FirstName twice.\n",
    "    RT.LastName: \"Jones\",\n",
    "    RT.Email: \"bob.jones@invalid.address\",\n",
    "    RT.HireDate: Time(\"2022-01-12\"),\n",
    "    RT.Salary: QuantityFloat(100.0, EN.Unit.AUD)\n",
    "}} | g | run;"
   ]
  },
  {
   "cell_type": "markdown",
   "id": "8047cb11-4e7c-4279-89b3-487e7b3bf9f4",
   "metadata": {},
   "source": [
    "## Querying the data\n",
    "\n",
    "If we did not know Alice's name and wanted to obtain this from the `ZefRef` of `z_alice`, then we could write the following:"
   ]
  },
  {
   "cell_type": "code",
   "execution_count": 86,
   "id": "911cdee1-2c17-4f1c-817e-64d7072d14b6",
   "metadata": {
    "tags": []
   },
   "outputs": [
    {
     "data": {
      "text/plain": [
       "'Alice'"
      ]
     },
     "execution_count": 86,
     "metadata": {},
     "output_type": "execute_result"
    }
   ],
   "source": [
    "first_name_ae = z_alice | now | Out[RT.FirstName] | collect\n",
    "name_string = first_name_ae | value | collect\n",
    "\n",
    "# ... or ...\n",
    "\n",
    "name_string = z_alice | now | Out[RT.FirstName] | value | collect\n",
    "\n",
    "name_string"
   ]
  },
  {
   "cell_type": "markdown",
   "id": "8fc5a65e-7d27-4295-b57f-6f44178e0d14",
   "metadata": {},
   "source": [
    "Here, the operation `Out` says to \"traverse the prior `ZefRef` along the\n",
    "following outgoing relation\", that is `RT.FirstName`. The output of this is\n",
    "itself another `ZefRef`. There is an equivalent operation `In` for traversing\n",
    "along an incoming relation, hence:"
   ]
  },
  {
   "cell_type": "code",
   "execution_count": 87,
   "id": "0f4e91e2-ec00-4e5f-9686-e39cb751d929",
   "metadata": {},
   "outputs": [
    {
     "data": {
      "text/plain": [
       "True"
      ]
     },
     "execution_count": 87,
     "metadata": {},
     "output_type": "execute_result"
    }
   ],
   "source": [
    "z_alice | now | Out[RT.FirstName] | In[RT.FirstName] | collect == now(z_alice)"
   ]
  },
  {
   "cell_type": "markdown",
   "id": "27429743-2af5-480a-8927-a0e0d0c78cae",
   "metadata": {},
   "source": [
    "Finally, once we have the `ZefRef` to the atomic value containing\n",
    "the name, we grab the value itself using the op `value`.\n",
    "\n",
    "You might be wondering what the `| collect` operations are for, and why there\n",
    "seem to be `|` characters everywhere. This is due to the lazy evaluation\n",
    "features of zefDB. If we write"
   ]
  },
  {
   "cell_type": "code",
   "execution_count": 88,
   "id": "4634f544-84b9-4747-a9c4-16c6f5a6bab6",
   "metadata": {},
   "outputs": [
    {
     "data": {
      "text/plain": [
       "LazyValue(<ZefRef #187 ET.Employee slice=2> | now)"
      ]
     },
     "execution_count": 88,
     "metadata": {},
     "output_type": "execute_result"
    }
   ],
   "source": [
    "z_alice | now"
   ]
  },
  {
   "cell_type": "markdown",
   "id": "5b201b52-1349-4968-9864-d37444564426",
   "metadata": {},
   "source": [
    "or"
   ]
  },
  {
   "cell_type": "code",
   "execution_count": 89,
   "id": "5ed540a3-7bc4-49ab-9b6f-45dc059d2b55",
   "metadata": {},
   "outputs": [
    {
     "data": {
      "text/plain": [
       "LazyValue(<ZefRef #187 ET.Employee slice=2> | out_out_old[RT.FirstName])"
      ]
     },
     "execution_count": 89,
     "metadata": {},
     "output_type": "execute_result"
    }
   ],
   "source": [
    "z_alice >> RT.FirstName"
   ]
  },
  {
   "cell_type": "markdown",
   "id": "3ce00097-21e7-405f-a383-f63cf8315ddd",
   "metadata": {},
   "source": [
    "we obtain an object of type `LazyValue` instead of a `ZefRef` that we might\n",
    "expect. This allows for the composition of expressions without evaluation,\n",
    "useful for functional design and an essential aspect of distributed queries and\n",
    "computing. To cause evaluation, we can pass this `LazyValue` through a\n",
    "`collect`."
   ]
  },
  {
   "cell_type": "markdown",
   "id": "c53790f1-2260-48c4-8c09-5e8915bc0d7a",
   "metadata": {},
   "source": [
    ":::tip\n",
    "\n",
    "For named operations, like `now` and `value`, we can cause immediate evaluation\n",
    "using the function call syntax:\n",
    "\n",
    "```py\n",
    "value(now(z_alice) | Out[RT.FirstName]) == z_alice | now | Out[RT.FirstName] | value | collect\n",
    "```\n",
    "\n",
    ":::"
   ]
  },
  {
   "cell_type": "markdown",
   "id": "d806a809-fa9a-41fa-ba10-53a9a20343fc",
   "metadata": {},
   "source": [
    "To obtain a quick visualisation of the current graph layout, we can use the\n",
    "`graphviz` operator. This requires both the [program\n",
    "graphviz](https://graphviz.org/download/) and the [python package\n",
    "`graphviz`](https://pypi.org/project/graphviz/) to be installed. Then you can\n",
    "simply run:"
   ]
  },
  {
   "cell_type": "code",
   "execution_count": 90,
   "id": "8f397565-7079-4b13-90ae-9ac8aa69534a",
   "metadata": {},
   "outputs": [
    {
     "data": {
      "image/svg+xml": [
       "<?xml version=\"1.0\" encoding=\"UTF-8\" standalone=\"no\"?>\n",
       "<!DOCTYPE svg PUBLIC \"-//W3C//DTD SVG 1.1//EN\"\n",
       " \"http://www.w3.org/Graphics/SVG/1.1/DTD/svg11.dtd\">\n",
       "<!-- Generated by graphviz version 3.0.0 (0)\n",
       " -->\n",
       "<!-- Title: G Pages: 1 -->\n",
       "<svg width=\"2427pt\" height=\"332pt\"\n",
       " viewBox=\"0.00 0.00 2427.48 332.00\" xmlns=\"http://www.w3.org/2000/svg\" xmlns:xlink=\"http://www.w3.org/1999/xlink\">\n",
       "<g id=\"graph0\" class=\"graph\" transform=\"scale(1 1) rotate(0) translate(4 328)\">\n",
       "<title>G</title>\n",
       "<polygon fill=\"white\" stroke=\"transparent\" points=\"-4,4 -4,-328 2423.48,-328 2423.48,4 -4,4\"/>\n",
       "<!-- 97 -->\n",
       "<g id=\"node1\" class=\"node\">\n",
       "<title>97</title>\n",
       "<ellipse fill=\"#115a63\" stroke=\"#115a63\" cx=\"776\" cy=\"-162\" rx=\"65.74\" ry=\"18\"/>\n",
       "<text text-anchor=\"middle\" x=\"776\" y=\"-158.9\" font-family=\"Times,serif\" font-size=\"12.00\">ET.Department</text>\n",
       "</g>\n",
       "<!-- 461 -->\n",
       "<g id=\"node26\" class=\"node\">\n",
       "<title>461</title>\n",
       "<text text-anchor=\"middle\" x=\"776\" y=\"-87.5\" font-family=\"Times,serif\" font-size=\"10.00\" fill=\"#777777\">RT.Name</text>\n",
       "</g>\n",
       "<!-- 97&#45;&gt;461 -->\n",
       "<g id=\"edge9\" class=\"edge\">\n",
       "<title>97&#45;&gt;461</title>\n",
       "<path fill=\"none\" stroke=\"#777777\" d=\"M776,-135.64C776,-126.49 776,-116.38 776,-108.1\"/>\n",
       "<ellipse fill=\"#777777\" stroke=\"#777777\" cx=\"776\" cy=\"-139.7\" rx=\"4\" ry=\"4\"/>\n",
       "</g>\n",
       "<!-- 127 -->\n",
       "<g id=\"node2\" class=\"node\">\n",
       "<title>127</title>\n",
       "<ellipse fill=\"#115a63\" stroke=\"#115a63\" cx=\"166\" cy=\"-162\" rx=\"65.74\" ry=\"18\"/>\n",
       "<text text-anchor=\"middle\" x=\"166\" y=\"-158.9\" font-family=\"Times,serif\" font-size=\"12.00\">ET.Department</text>\n",
       "</g>\n",
       "<!-- 534 -->\n",
       "<g id=\"node27\" class=\"node\">\n",
       "<title>534</title>\n",
       "<text text-anchor=\"middle\" x=\"166\" y=\"-87.5\" font-family=\"Times,serif\" font-size=\"10.00\" fill=\"#777777\">RT.Name</text>\n",
       "</g>\n",
       "<!-- 127&#45;&gt;534 -->\n",
       "<g id=\"edge11\" class=\"edge\">\n",
       "<title>127&#45;&gt;534</title>\n",
       "<path fill=\"none\" stroke=\"#777777\" d=\"M166,-135.64C166,-126.49 166,-116.38 166,-108.1\"/>\n",
       "<ellipse fill=\"#777777\" stroke=\"#777777\" cx=\"166\" cy=\"-139.7\" rx=\"4\" ry=\"4\"/>\n",
       "</g>\n",
       "<!-- 135 -->\n",
       "<g id=\"node3\" class=\"node\">\n",
       "<title>135</title>\n",
       "<ellipse fill=\"#78c25c\" stroke=\"#78c25c\" cx=\"2361\" cy=\"-306\" rx=\"58.46\" ry=\"18\"/>\n",
       "<text text-anchor=\"middle\" x=\"2361\" y=\"-302.9\" font-family=\"Times,serif\" font-size=\"12.00\">ET.Employee</text>\n",
       "</g>\n",
       "<!-- 542 -->\n",
       "<g id=\"node28\" class=\"node\">\n",
       "<title>542</title>\n",
       "<text text-anchor=\"middle\" x=\"2361\" y=\"-231.5\" font-family=\"Times,serif\" font-size=\"10.00\" fill=\"#99374f\">RT.FirstName</text>\n",
       "</g>\n",
       "<!-- 135&#45;&gt;542 -->\n",
       "<g id=\"edge13\" class=\"edge\">\n",
       "<title>135&#45;&gt;542</title>\n",
       "<path fill=\"none\" stroke=\"#99374f\" d=\"M2361,-279.64C2361,-270.49 2361,-260.38 2361,-252.1\"/>\n",
       "<ellipse fill=\"#99374f\" stroke=\"#99374f\" cx=\"2361\" cy=\"-283.7\" rx=\"4\" ry=\"4\"/>\n",
       "</g>\n",
       "<!-- 165 -->\n",
       "<g id=\"node4\" class=\"node\">\n",
       "<title>165</title>\n",
       "<ellipse fill=\"#78c25c\" stroke=\"#78c25c\" cx=\"166\" cy=\"-306\" rx=\"58.46\" ry=\"18\"/>\n",
       "<text text-anchor=\"middle\" x=\"166\" y=\"-302.9\" font-family=\"Times,serif\" font-size=\"12.00\">ET.Employee</text>\n",
       "</g>\n",
       "<!-- 195 -->\n",
       "<g id=\"node22\" class=\"node\">\n",
       "<title>195</title>\n",
       "<text text-anchor=\"middle\" x=\"718\" y=\"-231.5\" font-family=\"Times,serif\" font-size=\"10.00\" fill=\"#00171f\">RT.WorksFor</text>\n",
       "</g>\n",
       "<!-- 165&#45;&gt;195 -->\n",
       "<g id=\"edge1\" class=\"edge\">\n",
       "<title>165&#45;&gt;195</title>\n",
       "<path fill=\"none\" stroke=\"#00171f\" d=\"M228.37,-298.25C314.21,-288.79 473.52,-270.66 609,-252 631.67,-248.88 656.93,-244.96 677.42,-241.68\"/>\n",
       "<ellipse fill=\"#00171f\" stroke=\"#00171f\" cx=\"224.27\" cy=\"-298.7\" rx=\"4\" ry=\"4\"/>\n",
       "</g>\n",
       "<!-- 247 -->\n",
       "<g id=\"node23\" class=\"node\">\n",
       "<title>247</title>\n",
       "<text text-anchor=\"middle\" x=\"166\" y=\"-231.5\" font-family=\"Times,serif\" font-size=\"10.00\" fill=\"#00171f\">RT.WorksFor</text>\n",
       "</g>\n",
       "<!-- 165&#45;&gt;247 -->\n",
       "<g id=\"edge3\" class=\"edge\">\n",
       "<title>165&#45;&gt;247</title>\n",
       "<path fill=\"none\" stroke=\"#00171f\" d=\"M166,-279.64C166,-270.49 166,-260.38 166,-252.1\"/>\n",
       "<ellipse fill=\"#00171f\" stroke=\"#00171f\" cx=\"166\" cy=\"-283.7\" rx=\"4\" ry=\"4\"/>\n",
       "</g>\n",
       "<!-- 594 -->\n",
       "<g id=\"node29\" class=\"node\">\n",
       "<title>594</title>\n",
       "<text text-anchor=\"middle\" x=\"53\" y=\"-231.5\" font-family=\"Times,serif\" font-size=\"10.00\" fill=\"#99374f\">RT.FirstName</text>\n",
       "</g>\n",
       "<!-- 165&#45;&gt;594 -->\n",
       "<g id=\"edge15\" class=\"edge\">\n",
       "<title>165&#45;&gt;594</title>\n",
       "<path fill=\"none\" stroke=\"#99374f\" d=\"M134.21,-285.3C117.3,-274.83 96.73,-262.09 80.51,-252.04\"/>\n",
       "<ellipse fill=\"#99374f\" stroke=\"#99374f\" cx=\"137.8\" cy=\"-287.53\" rx=\"4\" ry=\"4\"/>\n",
       "</g>\n",
       "<!-- 179 -->\n",
       "<g id=\"node5\" class=\"node\">\n",
       "<title>179</title>\n",
       "<ellipse fill=\"#78c25c\" stroke=\"#78c25c\" cx=\"521\" cy=\"-306\" rx=\"58.46\" ry=\"18\"/>\n",
       "<text text-anchor=\"middle\" x=\"521\" y=\"-302.9\" font-family=\"Times,serif\" font-size=\"12.00\">ET.Employee</text>\n",
       "</g>\n",
       "<!-- 255 -->\n",
       "<g id=\"node24\" class=\"node\">\n",
       "<title>255</title>\n",
       "<text text-anchor=\"middle\" x=\"266\" y=\"-231.5\" font-family=\"Times,serif\" font-size=\"10.00\" fill=\"#00171f\">RT.WorksFor</text>\n",
       "</g>\n",
       "<!-- 179&#45;&gt;255 -->\n",
       "<g id=\"edge5\" class=\"edge\">\n",
       "<title>179&#45;&gt;255</title>\n",
       "<path fill=\"none\" stroke=\"#00171f\" d=\"M468.42,-292.38C427.06,-282.2 368.09,-267.13 317,-252 313.6,-250.99 310.08,-249.91 306.56,-248.8\"/>\n",
       "<ellipse fill=\"#00171f\" stroke=\"#00171f\" cx=\"472.3\" cy=\"-293.33\" rx=\"4\" ry=\"4\"/>\n",
       "</g>\n",
       "<!-- 602 -->\n",
       "<g id=\"node30\" class=\"node\">\n",
       "<title>602</title>\n",
       "<text text-anchor=\"middle\" x=\"474\" y=\"-231.5\" font-family=\"Times,serif\" font-size=\"10.00\" fill=\"#99374f\">RT.FirstName</text>\n",
       "</g>\n",
       "<!-- 179&#45;&gt;602 -->\n",
       "<g id=\"edge17\" class=\"edge\">\n",
       "<title>179&#45;&gt;602</title>\n",
       "<path fill=\"none\" stroke=\"#99374f\" d=\"M505.14,-281.38C498.74,-271.85 491.49,-261.05 485.6,-252.28\"/>\n",
       "<ellipse fill=\"#99374f\" stroke=\"#99374f\" cx=\"507.39\" cy=\"-284.73\" rx=\"4\" ry=\"4\"/>\n",
       "</g>\n",
       "<!-- 894 -->\n",
       "<g id=\"node37\" class=\"node\">\n",
       "<title>894</title>\n",
       "<text text-anchor=\"middle\" x=\"568\" y=\"-231.5\" font-family=\"Times,serif\" font-size=\"10.00\" fill=\"#124763\">RT.Salary</text>\n",
       "</g>\n",
       "<!-- 179&#45;&gt;894 -->\n",
       "<g id=\"edge31\" class=\"edge\">\n",
       "<title>179&#45;&gt;894</title>\n",
       "<path fill=\"none\" stroke=\"#124763\" d=\"M536.86,-281.38C543.26,-271.85 550.51,-261.05 556.4,-252.28\"/>\n",
       "<ellipse fill=\"#124763\" stroke=\"#124763\" cx=\"534.61\" cy=\"-284.73\" rx=\"4\" ry=\"4\"/>\n",
       "</g>\n",
       "<!-- 902 -->\n",
       "<g id=\"node38\" class=\"node\">\n",
       "<title>902</title>\n",
       "<text text-anchor=\"middle\" x=\"889\" y=\"-231.5\" font-family=\"Times,serif\" font-size=\"10.00\" fill=\"#402667\">RT.HireDate</text>\n",
       "</g>\n",
       "<!-- 179&#45;&gt;902 -->\n",
       "<g id=\"edge33\" class=\"edge\">\n",
       "<title>179&#45;&gt;902</title>\n",
       "<path fill=\"none\" stroke=\"#402667\" d=\"M577.48,-294.26C652.72,-279.95 783.91,-254.99 849.42,-242.53\"/>\n",
       "<ellipse fill=\"#402667\" stroke=\"#402667\" cx=\"573.42\" cy=\"-295.03\" rx=\"4\" ry=\"4\"/>\n",
       "</g>\n",
       "<!-- 910 -->\n",
       "<g id=\"node39\" class=\"node\">\n",
       "<title>910</title>\n",
       "<text text-anchor=\"middle\" x=\"1046\" y=\"-231.5\" font-family=\"Times,serif\" font-size=\"10.00\" fill=\"#604862\">RT.Email</text>\n",
       "</g>\n",
       "<!-- 179&#45;&gt;910 -->\n",
       "<g id=\"edge35\" class=\"edge\">\n",
       "<title>179&#45;&gt;910</title>\n",
       "<path fill=\"none\" stroke=\"#604862\" d=\"M582.72,-297.68C664.02,-287.92 811.38,-269.79 937,-252 963.17,-248.29 992.8,-243.64 1014.55,-240.14\"/>\n",
       "<ellipse fill=\"#604862\" stroke=\"#604862\" cx=\"578.56\" cy=\"-298.18\" rx=\"4\" ry=\"4\"/>\n",
       "</g>\n",
       "<!-- 918 -->\n",
       "<g id=\"node40\" class=\"node\">\n",
       "<title>918</title>\n",
       "<text text-anchor=\"middle\" x=\"369\" y=\"-231.5\" font-family=\"Times,serif\" font-size=\"10.00\" fill=\"#d3c5f9\">RT.LastName</text>\n",
       "</g>\n",
       "<!-- 179&#45;&gt;918 -->\n",
       "<g id=\"edge37\" class=\"edge\">\n",
       "<title>179&#45;&gt;918</title>\n",
       "<path fill=\"none\" stroke=\"#d3c5f9\" d=\"M482.49,-287.27C459.02,-276.46 429.17,-262.71 405.98,-252.03\"/>\n",
       "<ellipse fill=\"#d3c5f9\" stroke=\"#d3c5f9\" cx=\"486.24\" cy=\"-288.99\" rx=\"4\" ry=\"4\"/>\n",
       "</g>\n",
       "<!-- 187 -->\n",
       "<g id=\"node6\" class=\"node\">\n",
       "<title>187</title>\n",
       "<ellipse fill=\"#78c25c\" stroke=\"#78c25c\" cx=\"1581\" cy=\"-306\" rx=\"58.46\" ry=\"18\"/>\n",
       "<text text-anchor=\"middle\" x=\"1581\" y=\"-302.9\" font-family=\"Times,serif\" font-size=\"12.00\">ET.Employee</text>\n",
       "</g>\n",
       "<!-- 263 -->\n",
       "<g id=\"node25\" class=\"node\">\n",
       "<title>263</title>\n",
       "<text text-anchor=\"middle\" x=\"1227\" y=\"-231.5\" font-family=\"Times,serif\" font-size=\"10.00\" fill=\"#00171f\">RT.WorksFor</text>\n",
       "</g>\n",
       "<!-- 187&#45;&gt;263 -->\n",
       "<g id=\"edge7\" class=\"edge\">\n",
       "<title>187&#45;&gt;263</title>\n",
       "<path fill=\"none\" stroke=\"#00171f\" d=\"M1525.21,-293.97C1453.62,-279.81 1331.1,-255.58 1267.69,-243.05\"/>\n",
       "<ellipse fill=\"#00171f\" stroke=\"#00171f\" cx=\"1529.33\" cy=\"-294.78\" rx=\"4\" ry=\"4\"/>\n",
       "</g>\n",
       "<!-- 610 -->\n",
       "<g id=\"node31\" class=\"node\">\n",
       "<title>610</title>\n",
       "<text text-anchor=\"middle\" x=\"1720\" y=\"-231.5\" font-family=\"Times,serif\" font-size=\"10.00\" fill=\"#124763\">RT.Salary</text>\n",
       "</g>\n",
       "<!-- 187&#45;&gt;610 -->\n",
       "<g id=\"edge19\" class=\"edge\">\n",
       "<title>187&#45;&gt;610</title>\n",
       "<path fill=\"none\" stroke=\"#124763\" d=\"M1617.56,-286.59C1639.27,-275.66 1666.55,-261.92 1687.5,-251.37\"/>\n",
       "<ellipse fill=\"#124763\" stroke=\"#124763\" cx=\"1613.71\" cy=\"-288.53\" rx=\"4\" ry=\"4\"/>\n",
       "</g>\n",
       "<!-- 662 -->\n",
       "<g id=\"node32\" class=\"node\">\n",
       "<title>662</title>\n",
       "<text text-anchor=\"middle\" x=\"1912\" y=\"-231.5\" font-family=\"Times,serif\" font-size=\"10.00\" fill=\"#402667\">RT.HireDate</text>\n",
       "</g>\n",
       "<!-- 187&#45;&gt;662 -->\n",
       "<g id=\"edge21\" class=\"edge\">\n",
       "<title>187&#45;&gt;662</title>\n",
       "<path fill=\"none\" stroke=\"#402667\" d=\"M1635.62,-293.45C1702.23,-279.36 1813.23,-255.89 1872.25,-243.41\"/>\n",
       "<ellipse fill=\"#402667\" stroke=\"#402667\" cx=\"1631.64\" cy=\"-294.29\" rx=\"4\" ry=\"4\"/>\n",
       "</g>\n",
       "<!-- 714 -->\n",
       "<g id=\"node33\" class=\"node\">\n",
       "<title>714</title>\n",
       "<text text-anchor=\"middle\" x=\"2109\" y=\"-231.5\" font-family=\"Times,serif\" font-size=\"10.00\" fill=\"#604862\">RT.Email</text>\n",
       "</g>\n",
       "<!-- 187&#45;&gt;714 -->\n",
       "<g id=\"edge23\" class=\"edge\">\n",
       "<title>187&#45;&gt;714</title>\n",
       "<path fill=\"none\" stroke=\"#604862\" d=\"M1641.79,-296.94C1754.6,-281.99 1992.62,-250.43 2077.83,-239.13\"/>\n",
       "<ellipse fill=\"#604862\" stroke=\"#604862\" cx=\"1637.52\" cy=\"-297.51\" rx=\"4\" ry=\"4\"/>\n",
       "</g>\n",
       "<!-- 766 -->\n",
       "<g id=\"node34\" class=\"node\">\n",
       "<title>766</title>\n",
       "<text text-anchor=\"middle\" x=\"1362\" y=\"-231.5\" font-family=\"Times,serif\" font-size=\"10.00\" fill=\"#604862\">RT.Email</text>\n",
       "</g>\n",
       "<!-- 187&#45;&gt;766 -->\n",
       "<g id=\"edge25\" class=\"edge\">\n",
       "<title>187&#45;&gt;766</title>\n",
       "<path fill=\"none\" stroke=\"#604862\" d=\"M1534.12,-290.02C1491.5,-276.39 1429.82,-256.68 1393.03,-244.92\"/>\n",
       "<ellipse fill=\"#604862\" stroke=\"#604862\" cx=\"1538.04\" cy=\"-291.27\" rx=\"4\" ry=\"4\"/>\n",
       "</g>\n",
       "<!-- 774 -->\n",
       "<g id=\"node35\" class=\"node\">\n",
       "<title>774</title>\n",
       "<text text-anchor=\"middle\" x=\"1477\" y=\"-231.5\" font-family=\"Times,serif\" font-size=\"10.00\" fill=\"#d3c5f9\">RT.LastName</text>\n",
       "</g>\n",
       "<!-- 187&#45;&gt;774 -->\n",
       "<g id=\"edge27\" class=\"edge\">\n",
       "<title>187&#45;&gt;774</title>\n",
       "<path fill=\"none\" stroke=\"#d3c5f9\" d=\"M1550.85,-284.71C1535.51,-274.38 1517.07,-261.97 1502.45,-252.13\"/>\n",
       "<ellipse fill=\"#d3c5f9\" stroke=\"#d3c5f9\" cx=\"1554.34\" cy=\"-287.06\" rx=\"4\" ry=\"4\"/>\n",
       "</g>\n",
       "<!-- 826 -->\n",
       "<g id=\"node36\" class=\"node\">\n",
       "<title>826</title>\n",
       "<text text-anchor=\"middle\" x=\"1581\" y=\"-231.5\" font-family=\"Times,serif\" font-size=\"10.00\" fill=\"#99374f\">RT.FirstName</text>\n",
       "</g>\n",
       "<!-- 187&#45;&gt;826 -->\n",
       "<g id=\"edge29\" class=\"edge\">\n",
       "<title>187&#45;&gt;826</title>\n",
       "<path fill=\"none\" stroke=\"#99374f\" d=\"M1581,-279.64C1581,-270.49 1581,-260.38 1581,-252.1\"/>\n",
       "<ellipse fill=\"#99374f\" stroke=\"#99374f\" cx=\"1581\" cy=\"-283.7\" rx=\"4\" ry=\"4\"/>\n",
       "</g>\n",
       "<!-- 276 -->\n",
       "<g id=\"node7\" class=\"node\">\n",
       "<title>276</title>\n",
       "<polygon fill=\"#6f42b3\" stroke=\"#6f42b3\" points=\"822,-36 730,-36 730,0 822,0 822,-36\"/>\n",
       "<text text-anchor=\"middle\" x=\"776\" y=\"-21.4\" font-family=\"Times,serif\" font-size=\"12.00\">AET.String</text>\n",
       "<text text-anchor=\"middle\" x=\"776\" y=\"-8.4\" font-family=\"Times,serif\" font-size=\"12.00\">▷&quot;Research&quot;</text>\n",
       "</g>\n",
       "<!-- 306 -->\n",
       "<g id=\"node8\" class=\"node\">\n",
       "<title>306</title>\n",
       "<polygon fill=\"#6f42b3\" stroke=\"#6f42b3\" points=\"207,-36 125,-36 125,0 207,0 207,-36\"/>\n",
       "<text text-anchor=\"middle\" x=\"166\" y=\"-21.4\" font-family=\"Times,serif\" font-size=\"12.00\">AET.String</text>\n",
       "<text text-anchor=\"middle\" x=\"166\" y=\"-8.4\" font-family=\"Times,serif\" font-size=\"12.00\">▷&quot;HR&quot;</text>\n",
       "</g>\n",
       "<!-- 314 -->\n",
       "<g id=\"node9\" class=\"node\">\n",
       "<title>314</title>\n",
       "<polygon fill=\"#6f42b3\" stroke=\"#6f42b3\" points=\"2402,-180 2320,-180 2320,-144 2402,-144 2402,-180\"/>\n",
       "<text text-anchor=\"middle\" x=\"2361\" y=\"-165.4\" font-family=\"Times,serif\" font-size=\"12.00\">AET.String</text>\n",
       "<text text-anchor=\"middle\" x=\"2361\" y=\"-152.4\" font-family=\"Times,serif\" font-size=\"12.00\">▷&quot;Alex&quot;</text>\n",
       "</g>\n",
       "<!-- 322 -->\n",
       "<g id=\"node10\" class=\"node\">\n",
       "<title>322</title>\n",
       "<polygon fill=\"#6f42b3\" stroke=\"#6f42b3\" points=\"82,-180 0,-180 0,-144 82,-144 82,-180\"/>\n",
       "<text text-anchor=\"middle\" x=\"41\" y=\"-165.4\" font-family=\"Times,serif\" font-size=\"12.00\">AET.String</text>\n",
       "<text text-anchor=\"middle\" x=\"41\" y=\"-152.4\" font-family=\"Times,serif\" font-size=\"12.00\">▷&quot;Charlie&quot;</text>\n",
       "</g>\n",
       "<!-- 330 -->\n",
       "<g id=\"node11\" class=\"node\">\n",
       "<title>330</title>\n",
       "<polygon fill=\"#6f42b3\" stroke=\"#6f42b3\" points=\"432,-180 350,-180 350,-144 432,-144 432,-180\"/>\n",
       "<text text-anchor=\"middle\" x=\"391\" y=\"-165.4\" font-family=\"Times,serif\" font-size=\"12.00\">AET.String</text>\n",
       "<text text-anchor=\"middle\" x=\"391\" y=\"-152.4\" font-family=\"Times,serif\" font-size=\"12.00\">▷&quot;Bob&quot;</text>\n",
       "</g>\n",
       "<!-- 344 -->\n",
       "<g id=\"node12\" class=\"node\">\n",
       "<title>344</title>\n",
       "<polygon fill=\"#2fb6fc\" stroke=\"#2fb6fc\" points=\"1893.5,-180 1636.5,-180 1636.5,-144 1893.5,-144 1893.5,-180\"/>\n",
       "<text text-anchor=\"middle\" x=\"1765\" y=\"-165.4\" font-family=\"Times,serif\" font-size=\"12.00\">AET.QuantityFloat.AUD</text>\n",
       "<text text-anchor=\"middle\" x=\"1765\" y=\"-152.4\" font-family=\"Times,serif\" font-size=\"12.00\">▷&lt;QuantityFloat: 73100 EN.Unit.AUD&gt;</text>\n",
       "</g>\n",
       "<!-- 374 -->\n",
       "<g id=\"node13\" class=\"node\">\n",
       "<title>374</title>\n",
       "<polygon fill=\"#3e4337\" stroke=\"#3e4337\" points=\"2114,-180 1912,-180 1912,-144 2114,-144 2114,-180\"/>\n",
       "<text text-anchor=\"middle\" x=\"2013\" y=\"-165.4\" font-family=\"Times,serif\" font-size=\"12.00\">AET.Time</text>\n",
       "<text text-anchor=\"middle\" x=\"2013\" y=\"-152.4\" font-family=\"Times,serif\" font-size=\"12.00\">▷2022&#45;01&#45;11 00:00:00 (+0800)</text>\n",
       "</g>\n",
       "<!-- 404 -->\n",
       "<g id=\"node14\" class=\"node\">\n",
       "<title>404</title>\n",
       "<polygon fill=\"#6f42b3\" stroke=\"#6f42b3\" points=\"2301.5,-180 2132.5,-180 2132.5,-144 2301.5,-144 2301.5,-180\"/>\n",
       "<text text-anchor=\"middle\" x=\"2217\" y=\"-165.4\" font-family=\"Times,serif\" font-size=\"12.00\">AET.String</text>\n",
       "<text text-anchor=\"middle\" x=\"2217\" y=\"-152.4\" font-family=\"Times,serif\" font-size=\"12.00\">▷&quot;alice.smith52@back...&quot;</text>\n",
       "</g>\n",
       "<!-- 412 -->\n",
       "<g id=\"node15\" class=\"node\">\n",
       "<title>412</title>\n",
       "<polygon fill=\"#6f42b3\" stroke=\"#6f42b3\" points=\"1418,-180 1260,-180 1260,-144 1418,-144 1418,-180\"/>\n",
       "<text text-anchor=\"middle\" x=\"1339\" y=\"-165.4\" font-family=\"Times,serif\" font-size=\"12.00\">AET.String</text>\n",
       "<text text-anchor=\"middle\" x=\"1339\" y=\"-152.4\" font-family=\"Times,serif\" font-size=\"12.00\">▷&quot;alice.smith@invali...&quot;</text>\n",
       "</g>\n",
       "<!-- 420 -->\n",
       "<g id=\"node16\" class=\"node\">\n",
       "<title>420</title>\n",
       "<polygon fill=\"#6f42b3\" stroke=\"#6f42b3\" points=\"1518,-180 1436,-180 1436,-144 1518,-144 1518,-180\"/>\n",
       "<text text-anchor=\"middle\" x=\"1477\" y=\"-165.4\" font-family=\"Times,serif\" font-size=\"12.00\">AET.String</text>\n",
       "<text text-anchor=\"middle\" x=\"1477\" y=\"-152.4\" font-family=\"Times,serif\" font-size=\"12.00\">▷&quot;Smith&quot;</text>\n",
       "</g>\n",
       "<!-- 428 -->\n",
       "<g id=\"node17\" class=\"node\">\n",
       "<title>428</title>\n",
       "<polygon fill=\"#6f42b3\" stroke=\"#6f42b3\" points=\"1618,-180 1536,-180 1536,-144 1618,-144 1618,-180\"/>\n",
       "<text text-anchor=\"middle\" x=\"1577\" y=\"-165.4\" font-family=\"Times,serif\" font-size=\"12.00\">AET.String</text>\n",
       "<text text-anchor=\"middle\" x=\"1577\" y=\"-152.4\" font-family=\"Times,serif\" font-size=\"12.00\">▷&quot;Alice&quot;</text>\n",
       "</g>\n",
       "<!-- 846 -->\n",
       "<g id=\"node18\" class=\"node\">\n",
       "<title>846</title>\n",
       "<polygon fill=\"#2fb6fc\" stroke=\"#2fb6fc\" points=\"692,-180 450,-180 450,-144 692,-144 692,-180\"/>\n",
       "<text text-anchor=\"middle\" x=\"571\" y=\"-165.4\" font-family=\"Times,serif\" font-size=\"12.00\">AET.QuantityFloat.AUD</text>\n",
       "<text text-anchor=\"middle\" x=\"571\" y=\"-152.4\" font-family=\"Times,serif\" font-size=\"12.00\">▷&lt;QuantityFloat: 100 EN.Unit.AUD&gt;</text>\n",
       "</g>\n",
       "<!-- 854 -->\n",
       "<g id=\"node19\" class=\"node\">\n",
       "<title>854</title>\n",
       "<polygon fill=\"#3e4337\" stroke=\"#3e4337\" points=\"1062,-180 860,-180 860,-144 1062,-144 1062,-180\"/>\n",
       "<text text-anchor=\"middle\" x=\"961\" y=\"-165.4\" font-family=\"Times,serif\" font-size=\"12.00\">AET.Time</text>\n",
       "<text text-anchor=\"middle\" x=\"961\" y=\"-152.4\" font-family=\"Times,serif\" font-size=\"12.00\">▷2022&#45;01&#45;12 00:00:00 (+0800)</text>\n",
       "</g>\n",
       "<!-- 862 -->\n",
       "<g id=\"node20\" class=\"node\">\n",
       "<title>862</title>\n",
       "<polygon fill=\"#6f42b3\" stroke=\"#6f42b3\" points=\"1241.5,-180 1080.5,-180 1080.5,-144 1241.5,-144 1241.5,-180\"/>\n",
       "<text text-anchor=\"middle\" x=\"1161\" y=\"-165.4\" font-family=\"Times,serif\" font-size=\"12.00\">AET.String</text>\n",
       "<text text-anchor=\"middle\" x=\"1161\" y=\"-152.4\" font-family=\"Times,serif\" font-size=\"12.00\">▷&quot;bob.jones@invalid....&quot;</text>\n",
       "</g>\n",
       "<!-- 870 -->\n",
       "<g id=\"node21\" class=\"node\">\n",
       "<title>870</title>\n",
       "<polygon fill=\"#6f42b3\" stroke=\"#6f42b3\" points=\"332,-180 250,-180 250,-144 332,-144 332,-180\"/>\n",
       "<text text-anchor=\"middle\" x=\"291\" y=\"-165.4\" font-family=\"Times,serif\" font-size=\"12.00\">AET.String</text>\n",
       "<text text-anchor=\"middle\" x=\"291\" y=\"-152.4\" font-family=\"Times,serif\" font-size=\"12.00\">▷&quot;Jones&quot;</text>\n",
       "</g>\n",
       "<!-- 195&#45;&gt;97 -->\n",
       "<g id=\"edge2\" class=\"edge\">\n",
       "<title>195&#45;&gt;97</title>\n",
       "<path fill=\"none\" stroke=\"#00171f\" d=\"M732.34,-215.7C739.39,-207.18 748.02,-196.76 755.74,-187.45\"/>\n",
       "<polygon fill=\"#00171f\" stroke=\"#00171f\" points=\"758.54,-189.56 762.23,-179.62 753.15,-185.09 758.54,-189.56\"/>\n",
       "</g>\n",
       "<!-- 247&#45;&gt;127 -->\n",
       "<g id=\"edge4\" class=\"edge\">\n",
       "<title>247&#45;&gt;127</title>\n",
       "<path fill=\"none\" stroke=\"#00171f\" d=\"M166,-215.7C166,-207.98 166,-198.71 166,-190.11\"/>\n",
       "<polygon fill=\"#00171f\" stroke=\"#00171f\" points=\"169.5,-190.1 166,-180.1 162.5,-190.1 169.5,-190.1\"/>\n",
       "</g>\n",
       "<!-- 255&#45;&gt;127 -->\n",
       "<g id=\"edge6\" class=\"edge\">\n",
       "<title>255&#45;&gt;127</title>\n",
       "<path fill=\"none\" stroke=\"#00171f\" d=\"M241.54,-215.88C228.23,-206.56 211.61,-194.93 197.36,-184.95\"/>\n",
       "<polygon fill=\"#00171f\" stroke=\"#00171f\" points=\"199.04,-181.85 188.84,-178.99 195.02,-187.59 199.04,-181.85\"/>\n",
       "</g>\n",
       "<!-- 263&#45;&gt;97 -->\n",
       "<g id=\"edge8\" class=\"edge\">\n",
       "<title>263&#45;&gt;97</title>\n",
       "<path fill=\"none\" stroke=\"#00171f\" d=\"M1186.48,-228.41C1117.38,-220.32 972.41,-202.28 851,-180 845.36,-178.97 839.51,-177.8 833.67,-176.58\"/>\n",
       "<polygon fill=\"#00171f\" stroke=\"#00171f\" points=\"834.4,-173.16 823.89,-174.48 832.93,-180 834.4,-173.16\"/>\n",
       "</g>\n",
       "<!-- 461&#45;&gt;276 -->\n",
       "<g id=\"edge10\" class=\"edge\">\n",
       "<title>461&#45;&gt;276</title>\n",
       "<path fill=\"none\" stroke=\"#777777\" d=\"M776,-71.7C776,-63.98 776,-54.71 776,-46.11\"/>\n",
       "<polygon fill=\"#777777\" stroke=\"#777777\" points=\"779.5,-46.1 776,-36.1 772.5,-46.1 779.5,-46.1\"/>\n",
       "</g>\n",
       "<!-- 534&#45;&gt;306 -->\n",
       "<g id=\"edge12\" class=\"edge\">\n",
       "<title>534&#45;&gt;306</title>\n",
       "<path fill=\"none\" stroke=\"#777777\" d=\"M166,-71.7C166,-63.98 166,-54.71 166,-46.11\"/>\n",
       "<polygon fill=\"#777777\" stroke=\"#777777\" points=\"169.5,-46.1 166,-36.1 162.5,-46.1 169.5,-46.1\"/>\n",
       "</g>\n",
       "<!-- 542&#45;&gt;314 -->\n",
       "<g id=\"edge14\" class=\"edge\">\n",
       "<title>542&#45;&gt;314</title>\n",
       "<path fill=\"none\" stroke=\"#99374f\" d=\"M2361,-215.7C2361,-207.98 2361,-198.71 2361,-190.11\"/>\n",
       "<polygon fill=\"#99374f\" stroke=\"#99374f\" points=\"2364.5,-190.1 2361,-180.1 2357.5,-190.1 2364.5,-190.1\"/>\n",
       "</g>\n",
       "<!-- 594&#45;&gt;322 -->\n",
       "<g id=\"edge16\" class=\"edge\">\n",
       "<title>594&#45;&gt;322</title>\n",
       "<path fill=\"none\" stroke=\"#99374f\" d=\"M50.03,-215.7C48.71,-207.98 47.12,-198.71 45.65,-190.11\"/>\n",
       "<polygon fill=\"#99374f\" stroke=\"#99374f\" points=\"49.07,-189.37 43.93,-180.1 42.17,-190.55 49.07,-189.37\"/>\n",
       "</g>\n",
       "<!-- 602&#45;&gt;330 -->\n",
       "<g id=\"edge18\" class=\"edge\">\n",
       "<title>602&#45;&gt;330</title>\n",
       "<path fill=\"none\" stroke=\"#99374f\" d=\"M453.48,-215.7C443.13,-206.97 430.41,-196.24 419.16,-186.75\"/>\n",
       "<polygon fill=\"#99374f\" stroke=\"#99374f\" points=\"421.18,-183.88 411.28,-180.1 416.67,-189.23 421.18,-183.88\"/>\n",
       "</g>\n",
       "<!-- 610&#45;&gt;344 -->\n",
       "<g id=\"edge20\" class=\"edge\">\n",
       "<title>610&#45;&gt;344</title>\n",
       "<path fill=\"none\" stroke=\"#124763\" d=\"M1731.12,-215.7C1736.36,-207.56 1742.7,-197.69 1748.48,-188.7\"/>\n",
       "<polygon fill=\"#124763\" stroke=\"#124763\" points=\"1751.54,-190.41 1754,-180.1 1745.65,-186.62 1751.54,-190.41\"/>\n",
       "</g>\n",
       "<!-- 662&#45;&gt;374 -->\n",
       "<g id=\"edge22\" class=\"edge\">\n",
       "<title>662&#45;&gt;374</title>\n",
       "<path fill=\"none\" stroke=\"#402667\" d=\"M1936.71,-215.88C1949.67,-206.89 1965.73,-195.76 1979.77,-186.03\"/>\n",
       "<polygon fill=\"#402667\" stroke=\"#402667\" points=\"1981.97,-188.76 1988.2,-180.19 1977.98,-183.01 1981.97,-188.76\"/>\n",
       "</g>\n",
       "<!-- 714&#45;&gt;404 -->\n",
       "<g id=\"edge24\" class=\"edge\">\n",
       "<title>714&#45;&gt;404</title>\n",
       "<path fill=\"none\" stroke=\"#604862\" d=\"M2135.42,-215.88C2149.41,-206.81 2166.78,-195.55 2181.89,-185.76\"/>\n",
       "<polygon fill=\"#604862\" stroke=\"#604862\" points=\"2183.99,-188.57 2190.48,-180.19 2180.18,-182.69 2183.99,-188.57\"/>\n",
       "</g>\n",
       "<!-- 766&#45;&gt;412 -->\n",
       "<g id=\"edge26\" class=\"edge\">\n",
       "<title>766&#45;&gt;412</title>\n",
       "<path fill=\"none\" stroke=\"#604862\" d=\"M1356.31,-215.7C1353.75,-207.9 1350.67,-198.51 1347.82,-189.83\"/>\n",
       "<polygon fill=\"#604862\" stroke=\"#604862\" points=\"1351.07,-188.51 1344.62,-180.1 1344.42,-190.7 1351.07,-188.51\"/>\n",
       "</g>\n",
       "<!-- 774&#45;&gt;420 -->\n",
       "<g id=\"edge28\" class=\"edge\">\n",
       "<title>774&#45;&gt;420</title>\n",
       "<path fill=\"none\" stroke=\"#d3c5f9\" d=\"M1477,-215.7C1477,-207.98 1477,-198.71 1477,-190.11\"/>\n",
       "<polygon fill=\"#d3c5f9\" stroke=\"#d3c5f9\" points=\"1480.5,-190.1 1477,-180.1 1473.5,-190.1 1480.5,-190.1\"/>\n",
       "</g>\n",
       "<!-- 826&#45;&gt;428 -->\n",
       "<g id=\"edge30\" class=\"edge\">\n",
       "<title>826&#45;&gt;428</title>\n",
       "<path fill=\"none\" stroke=\"#99374f\" d=\"M1580.01,-215.7C1579.57,-207.98 1579.04,-198.71 1578.55,-190.11\"/>\n",
       "<polygon fill=\"#99374f\" stroke=\"#99374f\" points=\"1582.04,-189.89 1577.98,-180.1 1575.05,-190.29 1582.04,-189.89\"/>\n",
       "</g>\n",
       "<!-- 894&#45;&gt;846 -->\n",
       "<g id=\"edge32\" class=\"edge\">\n",
       "<title>894&#45;&gt;846</title>\n",
       "<path fill=\"none\" stroke=\"#124763\" d=\"M568.74,-215.7C569.07,-207.98 569.47,-198.71 569.84,-190.11\"/>\n",
       "<polygon fill=\"#124763\" stroke=\"#124763\" points=\"573.34,-190.25 570.27,-180.1 566.34,-189.95 573.34,-190.25\"/>\n",
       "</g>\n",
       "<!-- 902&#45;&gt;854 -->\n",
       "<g id=\"edge34\" class=\"edge\">\n",
       "<title>902&#45;&gt;854</title>\n",
       "<path fill=\"none\" stroke=\"#402667\" d=\"M906.8,-215.7C915.6,-207.14 926.38,-196.66 936,-187.3\"/>\n",
       "<polygon fill=\"#402667\" stroke=\"#402667\" points=\"938.68,-189.58 943.41,-180.1 933.8,-184.57 938.68,-189.58\"/>\n",
       "</g>\n",
       "<!-- 910&#45;&gt;862 -->\n",
       "<g id=\"edge36\" class=\"edge\">\n",
       "<title>910&#45;&gt;862</title>\n",
       "<path fill=\"none\" stroke=\"#604862\" d=\"M1074.13,-215.88C1089.17,-206.72 1107.87,-195.34 1124.06,-185.48\"/>\n",
       "<polygon fill=\"#604862\" stroke=\"#604862\" points=\"1126.04,-188.38 1132.76,-180.19 1122.4,-182.4 1126.04,-188.38\"/>\n",
       "</g>\n",
       "<!-- 918&#45;&gt;870 -->\n",
       "<g id=\"edge38\" class=\"edge\">\n",
       "<title>918&#45;&gt;870</title>\n",
       "<path fill=\"none\" stroke=\"#d3c5f9\" d=\"M349.72,-215.7C340.08,-207.05 328.27,-196.45 317.77,-187.03\"/>\n",
       "<polygon fill=\"#d3c5f9\" stroke=\"#d3c5f9\" points=\"319.84,-184.18 310.06,-180.1 315.16,-189.39 319.84,-184.18\"/>\n",
       "</g>\n",
       "</g>\n",
       "</svg>\n"
      ],
      "text/plain": [
       "<zef.core.image.Image at 0x7febb5b759c0>"
      ]
     },
     "execution_count": 90,
     "metadata": {},
     "output_type": "execute_result"
    }
   ],
   "source": [
    "# Make sure both the graphviz program and the python package graphviz are\n",
    "# installed before running this command.\n",
    "g | now | all | graphviz | collect"
   ]
  },
  {
   "cell_type": "markdown",
   "id": "232034e9-8664-4dd4-b3cc-581fd45e50f9",
   "metadata": {},
   "source": [
    "This will autogenerate a visualisation with a layout that will likely require\n",
    "some zooming to view all of the individual parts.\n",
    "\n",
    "Note: the `graphviz` return type is an Image which is automatically displayed in Jupyter. At the REPL you should instead, for example, run save this to a variable `viz` and run `viz.view()`."
   ]
  },
  {
   "cell_type": "markdown",
   "id": "517c9b5e-a6dd-4c50-bd4a-bb9c697bed8c",
   "metadata": {},
   "source": [
    "## Exploiting relations\n",
    "\n",
    "Relations in all graph databases can connect entities, that is, a relation can begin or\n",
    "end at an entity. In Zef graphs, relations are also allowed to begin or end at a\n",
    "relation. This is very helpful to represent facts which are connected to a pair\n",
    "of entities. For example, if an employee is associated with multiple\n",
    "departments, like \"Charlie\" in our example above, we might want to attach\n",
    "additional facts that describe what role or what fraction of time Charlie\n",
    "spends in the HR and Research departments. This might be better explained by\n",
    "example, creating a new employee:"
   ]
  },
  {
   "cell_type": "code",
   "execution_count": 91,
   "id": "dd218d34-b4a5-48aa-8878-c78d8b31d93a",
   "metadata": {},
   "outputs": [],
   "source": [
    "# We create a new employee to show how everything can be added in one step\n",
    "receipt = [\n",
    "    {ET.Employee[\"zaphod\"]: {\n",
    "        RT.FirstName: \"Zaphod\",\n",
    "        RT.LastName: \"Beeblebrox\",\n",
    "    }},\n",
    "\n",
    "    (Z[\"zaphod\"], RT.WorksFor[\"zaphod-hr\"], z_hr),\n",
    "    (Z[\"zaphod\"], RT.WorksFor[\"zaphod-research\"], z_research),\n",
    "\n",
    "    {Z[\"zaphod-hr\"]: {\n",
    "        RT.Role: \"busy body\",\n",
    "        RT.Fraction: 0.1,\n",
    "    }},\n",
    "\n",
    "    {Z[\"zaphod-research\"]: {\n",
    "        RT.Role: \"general nuisance\",\n",
    "        RT.Fraction: 0.9,\n",
    "    }},\n",
    "] | transact[g] | run\n",
    "\n",
    "z_zaphod = receipt[\"zaphod\"]"
   ]
  },
  {
   "cell_type": "markdown",
   "id": "72cc1a7d-fffa-4f83-8cff-d6fd9fc9c796",
   "metadata": {},
   "source": [
    "Notice that we can assign internal names to the `RT.WorksFor` relations and this\n",
    "is one method to create relations out of relations. Alternatively, we can first\n",
    "obtain a relation using the `relation` operator."
   ]
  },
  {
   "cell_type": "code",
   "execution_count": 92,
   "id": "6fe31a69-943d-47a2-ac0e-51f6ffd89d20",
   "metadata": {},
   "outputs": [],
   "source": [
    "z_charlie_hr = relation(now(z_charlie), now(z_hr))\n",
    "z_charlie_research = relation(now(z_charlie), now(z_research))\n",
    "\n",
    "[\n",
    "    (z_charlie_hr, RT.Role, \"Recruitment\"),\n",
    "    (z_charlie_research, RT.Role, \"Manager\"),\n",
    "] | transact[g] | run;"
   ]
  },
  {
   "cell_type": "markdown",
   "id": "c82de97e-b3eb-47c0-bb75-513122eec93d",
   "metadata": {},
   "source": [
    "For Zaphod, we included a `RT.Fraction` but this was left off of Charlie's details. The lack of a `RT.Fraction` needs to be understood in the graph context.\n",
    "It could be interpreted as:\n",
    "\n",
    "- Charlie spends equal time in all roles, or\n",
    "- Charlie provides floating support, or\n",
    "- the data is incomplete and represents an error in the data\n",
    "\n",
    "Exactly which of these interpretations apply would\n",
    "be part of the data model."
   ]
  },
  {
   "cell_type": "markdown",
   "id": "5fcf3884-770b-44e5-b684-17d624d95b67",
   "metadata": {},
   "source": [
    "If we wish to remove a fact from the database, we can terminate it:"
   ]
  },
  {
   "cell_type": "code",
   "execution_count": 93,
   "id": "ad7fedd8-ebfd-429c-ad8e-4027954c3f34",
   "metadata": {},
   "outputs": [
    {
     "data": {
      "text/plain": [
       "<ZefRef #931 ET.Employee slice=7>"
      ]
     },
     "execution_count": 93,
     "metadata": {},
     "output_type": "execute_result"
    }
   ],
   "source": [
    "z_zaphod | terminate | g | run\n",
    "\n",
    "# Alternatively...\n",
    "# [terminate(z_zaphod)] | transact[g] | run"
   ]
  },
  {
   "cell_type": "markdown",
   "id": "aca5cd87-7f38-41ac-a314-98b112567e80",
   "metadata": {},
   "source": [
    "Terminating an entity such as `z_zaphod` will also terminate any relations that\n",
    "were pointing to it. Hence, the `RT.WorksFor` relation connecting `z_zaphod` to\n",
    "`z_hr` was also terminated, along with the `RT.Role` in turn."
   ]
  },
  {
   "cell_type": "markdown",
   "id": "15e3da0f-c34b-4403-814f-539052b83eb8",
   "metadata": {},
   "source": [
    ":::tip\n",
    "\n",
    "Knowing when to place facts on a relation between two entities, as opposed to\n",
    "one of the entities directly can often be determined by what behavior would be\n",
    "expected by `terminate`. For example, the `RT.Role` fact would become\n",
    "meaningless if either of `z_zaphod` or `z_hr` were removed, hence placing it on\n",
    "the connecting relation makes sense.\n",
    "\n",
    "In contrast, a hire date associated with Zaphod makes more sense to be attached\n",
    "directly to `z_zaphod`, even though it might also be the same time as when\n",
    "Zaphod started in the HR department. If the department entity were terminated,\n",
    "then it would be incorrect to also remove the hire date of Zaphod.\n",
    "\n",
    ":::"
   ]
  },
  {
   "cell_type": "markdown",
   "id": "7c948c51-50aa-4645-a31b-07d45899a119",
   "metadata": {},
   "source": [
    "## Queries out of nothing\n",
    "\n",
    "So far, we have created items on the graph, and then accessed them using the\n",
    "`ZefRef` that was returned from the creation effect. If we instead approach the\n",
    "graph without any prior references, we need to be able to access these\n",
    "previously stored facts.\n",
    "\n",
    "A Zef query is not formulated like an SQL query. We can directly interact with a\n",
    "graph, and programmatically apply filtering, traversals and transformations.\n",
    "Here is how we could obtain all employee entities, and print their IDs and first\n",
    "names:"
   ]
  },
  {
   "cell_type": "code",
   "execution_count": 94,
   "id": "a89270c3-51c8-4589-b988-aef0cd7babdd",
   "metadata": {},
   "outputs": [
    {
     "name": "stdout",
     "output_type": "stream",
     "text": [
      "b501be56d899f77e931b00e1e97a4f5c53bdc9821d767ec8 Alex\n",
      "820a3434a983e82e931b00e1e97a4f5c53bdc9821d767ec8 Charlie\n",
      "e792dc1ab793b393931b00e1e97a4f5c53bdc9821d767ec8 Bob\n",
      "21bd50c7b8ddd159931b00e1e97a4f5c53bdc9821d767ec8 Alice\n",
      "b501be56d899f77e931b00e1e97a4f5c53bdc9821d767ec8 Alex\n",
      "820a3434a983e82e931b00e1e97a4f5c53bdc9821d767ec8 Charlie\n",
      "e792dc1ab793b393931b00e1e97a4f5c53bdc9821d767ec8 Bob\n",
      "21bd50c7b8ddd159931b00e1e97a4f5c53bdc9821d767ec8 Alice\n"
     ]
    }
   ],
   "source": [
    "employees = g | now | all[ET.Employee] | collect\n",
    "\n",
    "# Using zef ops\n",
    "make_output = lambda z: (uid(z), value(z | Out[RT.FirstName]))\n",
    "employees | map[make_output] | for_each[unpack[print]]\n",
    "\n",
    "# Using traditional python\n",
    "for z in employees:\n",
    "    print(*make_output(z))"
   ]
  },
  {
   "cell_type": "markdown",
   "id": "fae609fb-72a8-4c16-9777-e2024f7911e9",
   "metadata": {},
   "source": [
    "`employees` is a list holding a bunch of `ZefRef`s.\n",
    "\n",
    "Notice that there should be no \"Zaphod\" in the list, as this node was\n",
    "terminated. However, zefDB is an append-only database with time travel built in,\n",
    "so it is possible to go back and view the facts of the graph at an earlier time:"
   ]
  },
  {
   "cell_type": "code",
   "execution_count": 95,
   "id": "931c47af-4b43-414e-abe2-2f7836560ccf",
   "metadata": {},
   "outputs": [
    {
     "name": "stdout",
     "output_type": "stream",
     "text": [
      "b501be56d899f77e5888ae8da8d112ef53bdc9821d767ec8 Alex\n",
      "820a3434a983e82e5888ae8da8d112ef53bdc9821d767ec8 Charlie\n",
      "e792dc1ab793b3935888ae8da8d112ef53bdc9821d767ec8 Bob\n",
      "21bd50c7b8ddd1595888ae8da8d112ef53bdc9821d767ec8 Alice\n",
      "aae05777c02978bc5888ae8da8d112ef53bdc9821d767ec8 Zaphod\n"
     ]
    }
   ],
   "source": [
    "# This code assumes z_zaphod is the same variable as would have been created\n",
    "# from the code earlier in this tutorial.\n",
    "\n",
    "employees = z_zaphod | frame | all[ET.Employee] | collect\n",
    "employees | map[make_output] | for_each[unpack[print]];"
   ]
  },
  {
   "cell_type": "markdown",
   "id": "7b0067af-d57c-45c8-8624-0ffea1bf32e5",
   "metadata": {},
   "source": [
    "Here, we use the op `frame`  to get the reference frame of `z_zaphod`, which is the frame\n",
    "in which the `ET.Employee` for Zaphod was created. We then ask for all\n",
    "`ET.Employee` in the context of this reference frame.\n",
    "\n",
    "It is also possible ask for all employees that ever existed:"
   ]
  },
  {
   "cell_type": "code",
   "execution_count": 96,
   "id": "26f2c851-7709-45ca-8829-b215ceb5e4ff",
   "metadata": {},
   "outputs": [
    {
     "name": "stdout",
     "output_type": "stream",
     "text": [
      "b501be56d899f77e53bdc9821d767ec8 Alex\n",
      "820a3434a983e82e53bdc9821d767ec8 Charlie\n",
      "e792dc1ab793b39353bdc9821d767ec8 Bob\n",
      "21bd50c7b8ddd15953bdc9821d767ec8 Alice\n",
      "aae05777c02978bc53bdc9821d767ec8 Zaphod\n",
      "d974cebb8e1d2d6853bdc9821d767ec8 Trillian\n"
     ]
    }
   ],
   "source": [
    "# First create a new employee:\n",
    "z_trillian,_,_ = (ET.Employee, RT.FirstName, \"Trillian\") | g | run\n",
    "\n",
    "employees = g | all[ET.Employee] | collect\n",
    "# Note: as the employees have no reference frame, we need to\n",
    "# pass in one to `value` to allow it to return something sensible.\n",
    "employees | map[lambda z: (uid(z), z | Out[RT.FirstName] | value[now(g)] | collect)] | for_each[unpack[print]];"
   ]
  },
  {
   "cell_type": "markdown",
   "id": "c075664f-30d9-434c-b9a7-5f264295aab2",
   "metadata": {},
   "source": [
    "Here, we simply ask for all `ET.Employee` of the graph, which _not_ a reference\n",
    "frame, in contrast to `g | now | all[...]`. We see all employees, including both\n",
    "\"Zaphod\" and \"Trillian\" despite there never being a single time in which both\n",
    "were employeed (remember the order, the Zaphod entity was created, then\n",
    "terminated, then the Trillian entity was created)."
   ]
  },
  {
   "cell_type": "markdown",
   "id": "dda43348-060e-4e5b-b5b9-f0659a95a860",
   "metadata": {},
   "source": [
    ":::caution\n",
    "\n",
    "Objects returned from a reference frame are `ZefRef`s which are effectively a\n",
    "`(identity, reference_frame)` pair. The objects returned by `g | all[...]` are\n",
    "`EZefRef`s (\"eternal ZefRefs\"), which are the `identity` alone. More discussion\n",
    "on the differences between a `ZefRef` and `EZefRef` can be found [here(todo)](/).\n",
    "\n",
    ":::"
   ]
  },
  {
   "cell_type": "markdown",
   "id": "6254468f-a009-42a3-b362-d458742e59d4",
   "metadata": {},
   "source": [
    "To ask for a particular employee we can filter on these results. For example:"
   ]
  },
  {
   "cell_type": "code",
   "execution_count": 97,
   "id": "0e1f5103-1a01-42ce-9a3b-43c311169120",
   "metadata": {},
   "outputs": [],
   "source": [
    "z_found = (g | now | all[ET.Employee]\n",
    " | filter[Out[RT.FirstName]\n",
    "   | value\n",
    "   | equals[\"Alice\"]]\n",
    " | single\n",
    " | collect)"
   ]
  },
  {
   "cell_type": "markdown",
   "id": "99206bde-4c75-43dc-8cd4-027f689c4584",
   "metadata": {},
   "source": [
    "The `filter` op filters a list based on the predicate function/op curried into\n",
    "it. Note that `Z >> RT.FirstName` is effectively the same as `lambda z: z >> RT.FirstName`. Finally, the `single` op takes a list of a single element and\n",
    "returns that element. If the list is empty, or contains two or more elements, it\n",
    "would raise an error.\n",
    "\n",
    "As this is programmatic, we can now continue to use the `ZefRef` result in\n",
    "`z_found` to query the graph:"
   ]
  },
  {
   "cell_type": "code",
   "execution_count": 98,
   "id": "578562e9-ebc0-4c14-971c-a9fc041573b1",
   "metadata": {},
   "outputs": [
    {
     "name": "stdout",
     "output_type": "stream",
     "text": [
      "The employee Alice Smith was hired on 2022-01-11 00:00:00 (+0800)\n"
     ]
    }
   ],
   "source": [
    "print(f\"The employee {value(z_found | Out[RT.FirstName])} {value(z_found | Out[RT.LastName])} was hired on {value(z_found | Out[RT.HireDate])}\")"
   ]
  },
  {
   "cell_type": "markdown",
   "id": "46cd1b1a-a548-4944-826b-68c1f1666c49",
   "metadata": {
    "tags": []
   },
   "source": [
    "## Complex queries\n",
    "\n",
    "In SQL, joins between multiple tables are necessary to perform interesting\n",
    "queries. In graph databases, we instead traverse relations. We have already seen\n",
    "how we can traverse a single relation with `z_zaphod | Out[RT.FirstName]`. We can\n",
    "also traverse multiple relations:"
   ]
  },
  {
   "cell_type": "code",
   "execution_count": 99,
   "id": "64139637-c122-4ee0-9667-0164b056f2b5",
   "metadata": {
    "jp-MarkdownHeadingCollapsed": true,
    "tags": []
   },
   "outputs": [
    {
     "name": "stdout",
     "output_type": "stream",
     "text": [
      "['Charlie', 'Bob']\n"
     ]
    }
   ],
   "source": [
    "names = z_hr | now | Ins[RT.WorksFor] | map[Out[RT.FirstName] | value] | collect\n",
    "print(names)"
   ]
  },
  {
   "cell_type": "markdown",
   "id": "0d6ba55b-ee43-4270-8ba8-982837a0768e",
   "metadata": {
    "jp-MarkdownHeadingCollapsed": true,
    "tags": []
   },
   "source": [
    "Here, `z | Ins[RT.WorksFor]` asks for all sources of `RT.WorksFor` relations\n",
    "incoming to `z`. It will always return a list, even if there is only a single\n",
    "relation, hence `z | In[RT.WorksFor]` is equivalent to `z | Ins[RT.WorksFor] | single`.\n",
    "\n",
    "Finally, we have seen how to attach facts to relations, by allowing relations to\n",
    "start from other relations. To query for this we use `out_rel` and `in_rel` which are\n",
    "analogous to `Out` and `In`:"
   ]
  },
  {
   "cell_type": "code",
   "execution_count": 100,
   "id": "e6a903e3-670e-4760-bcaa-57180be20ae7",
   "metadata": {
    "jp-MarkdownHeadingCollapsed": true,
    "tags": []
   },
   "outputs": [
    {
     "name": "stdout",
     "output_type": "stream",
     "text": [
      "['Manager', 'Recruitment']\n"
     ]
    }
   ],
   "source": [
    "roles = z_charlie | now | out_rels[RT.WorksFor] | map[Out[RT.Role] | value] | collect\n",
    "print(roles)"
   ]
  },
  {
   "cell_type": "markdown",
   "id": "08845b7e-62ad-42ac-a0b2-49e704348f96",
   "metadata": {
    "jp-MarkdownHeadingCollapsed": true,
    "tags": []
   },
   "source": [
    "The `out_rels[RT.WorksFor]` returns a list of the relations outgoing from the\n",
    "entity, instead of their targets, as would be returned by `Outs[RT.WorksFor]`. In fact, we can say that `z | Outs[RT.Something] == z | out_rels[RT.Something] | map[target]`. An alternative way to describe this is \"`Out` and `In` follow\n",
    "relations to one of their end, whereas `out_rel` and `in_rel` stop on the relation\"."
   ]
  },
  {
   "cell_type": "markdown",
   "id": "f328d5fd-af52-43cc-8841-f2e7273bdbd1",
   "metadata": {
    "tags": []
   },
   "source": [
    "### Labelling composite queries\n",
    "\n",
    "Most of the time, we would like to reuse queries. As these are lazy operations,\n",
    "this as simple as assigning them to a variable:"
   ]
  },
  {
   "cell_type": "code",
   "execution_count": 101,
   "id": "1909e3eb-16f1-4171-8311-f199e5d83e72",
   "metadata": {
    "jp-MarkdownHeadingCollapsed": true,
    "tags": []
   },
   "outputs": [
    {
     "name": "stdout",
     "output_type": "stream",
     "text": [
      "['Manager', 'Recruitment']\n",
      "['<missing role name>']\n"
     ]
    }
   ],
   "source": [
    "get_roles_simple = now | out_rels[RT.WorksFor] | map[Out[RT.Role] | value]\n",
    "\n",
    "get_roles = (Assert[is_a[ET.Employee]]\n",
    " | now\n",
    " | out_rels[RT.WorksFor]\n",
    " | map[Outs[RT.Role] | single_or[None]] # Follow RT.Role if it exists, otherwise return None\n",
    " | map[value_or[\"<missing role name>\"]]) # Get the value, but if None return \"<missing role name>\"\n",
    "\n",
    "z_charlie | get_roles | collect | run[print]\n",
    "\n",
    "z_alice | get_roles | collect | run[print]"
   ]
  },
  {
   "cell_type": "markdown",
   "id": "f242ae1c-7025-45a1-8d30-ad1f8f143cca",
   "metadata": {
    "jp-MarkdownHeadingCollapsed": true,
    "tags": []
   },
   "source": [
    "The `get_roles_simple` form is nearly identical to what we wrote before. The\n",
    "more complex form underneath also includes an assertion (which will complain if\n",
    "the `ZefRef` passed in is not an `ET.Employee`) and proper handling for the case\n",
    "that a `RT.Role` is missing. This zefop can now be used more concisely in\n",
    "interesting cases:"
   ]
  },
  {
   "cell_type": "code",
   "execution_count": 102,
   "id": "085c3e29-4c95-4275-b5e2-2517ec605d3d",
   "metadata": {
    "jp-MarkdownHeadingCollapsed": true,
    "tags": []
   },
   "outputs": [
    {
     "name": "stdout",
     "output_type": "stream",
     "text": [
      "['Manager', 'Recruitment', '<missing role name>']\n"
     ]
    }
   ],
   "source": [
    "all_roles = (g | now | all[ET.Employee]\n",
    " | map[get_roles | collect]\n",
    " | concat\n",
    " | distinct\n",
    " | collect)\n",
    "print(all_roles)"
   ]
  },
  {
   "cell_type": "markdown",
   "id": "e33d4b0a-cd0c-4475-a034-4cf947138535",
   "metadata": {
    "jp-MarkdownHeadingCollapsed": true,
    "tags": []
   },
   "source": [
    "Note that we can also write a python function to implement `get_roles` and\n",
    "decorate it so that it can be used like an op:"
   ]
  },
  {
   "cell_type": "code",
   "execution_count": 103,
   "id": "b3ed754c-460c-4119-b42a-1afe9a809cb5",
   "metadata": {
    "jp-MarkdownHeadingCollapsed": true,
    "tags": []
   },
   "outputs": [
    {
     "name": "stdout",
     "output_type": "stream",
     "text": [
      "['Manager', 'Recruitment']\n",
      "['<missing role name>']\n"
     ]
    }
   ],
   "source": [
    "@func\n",
    "def get_roles2(z):\n",
    "    assert is_a(z, ET.Employee)\n",
    "    rels = z | now | out_rels[RT.WorksFor]\n",
    "\n",
    "    roles = []\n",
    "    g = Graph(z)\n",
    "    for rel in rels:\n",
    "        if rel | has_out[RT.Role] | collect:\n",
    "            role = rel | Out[RT.Role] | value | collect\n",
    "        else:\n",
    "            role = \"<missing role name>\"\n",
    "        roles.append(role)\n",
    "    return roles\n",
    "\n",
    "z_charlie | get_roles2 | collect | run[print]\n",
    "z_alice | get_roles2 | collect | run[print]"
   ]
  },
  {
   "cell_type": "markdown",
   "id": "05e1b26f-fdff-411e-a32a-e4dbd9902e07",
   "metadata": {
    "tags": []
   },
   "source": [
    "A function decorated with `@func` can also be permanently attached to a graph\n",
    "via the `@func(g)` syntax. See [here(todo)](/) for more detail."
   ]
  },
  {
   "cell_type": "markdown",
   "id": "a5982159-6e24-49e4-b85e-80758f79b27a",
   "metadata": {
    "tags": []
   },
   "source": [
    "## Persisting data for later use\n",
    "\n",
    "Although we have left this for last, it is actually one of the simplest steps in\n",
    "this tutorial. If you would like to save the graph you are working on to be able\n",
    "to return to it in the future, then simply call:"
   ]
  },
  {
   "cell_type": "code",
   "execution_count": null,
   "id": "236ebe83-0523-4725-9cdf-df6d78398c97",
   "metadata": {
    "jp-MarkdownHeadingCollapsed": true,
    "tags": []
   },
   "outputs": [],
   "source": [
    "g | sync | run\n",
    "g | tag[\"employee-records\"] | run"
   ]
  },
  {
   "cell_type": "markdown",
   "id": "ceabb323-539f-4f1c-a076-9dcb641eca99",
   "metadata": {
    "jp-MarkdownHeadingCollapsed": true,
    "tags": []
   },
   "source": [
    "This will indicate you would like to synchronize this graph on ZefHub. The\n",
    "default graph permissions are private to your user. To access the graph in the\n",
    "future you can simply pass this tag as the requested graph:"
   ]
  },
  {
   "cell_type": "code",
   "execution_count": null,
   "id": "5bee2212-20cc-42fe-b5e7-e48db9646ad9",
   "metadata": {
    "jp-MarkdownHeadingCollapsed": true,
    "tags": []
   },
   "outputs": [],
   "source": [
    "g = Graph(\"employee-records\")"
   ]
  },
  {
   "cell_type": "markdown",
   "id": "df40d379-5629-4f19-b4bf-9b2b60f4ccd5",
   "metadata": {
    "jp-MarkdownHeadingCollapsed": true,
    "tags": []
   },
   "source": [
    ":::caution\n",
    "\n",
    "The above has associated the graph you created with the tag `your-user-name/employee-records`. If you try and tag a new graph (e.g. by running this notebook again) then an error will appear, saying that a graph is already tagged.\n",
    "\n",
    "If you want to put a tag on a new graph you should either:\n",
    "\n",
    "`Graph(\"employee-records\") | untag[\"employee-records\"] | run`\n",
    "\n",
    "or\n",
    "\n",
    "`g | tag[\"employee-records\"][True] | run`\n",
    "\n",
    "where the `True` means \"steal tag from my other graph\".\n",
    "\n",
    ":::"
   ]
  },
  {
   "cell_type": "markdown",
   "id": "6373e28b-6185-4418-82a4-b8ee16dd69a1",
   "metadata": {
    "tags": []
   },
   "source": [
    "To share your graph with others, you can give them permissions to\n",
    "view/append/host the graph:\n",
    "\n",
    "```py\n",
    "\"user.name@email.com\" | grant[KW.view][g] | run\n",
    "\n",
    "\"best.friend@email.com\" | grant[KW.view][g] | run\n",
    "\"best.friend@email.com\" | grant[KW.append][g] | run\n",
    "```\n",
    "\n",
    "These users can then access the graph via `Graph(\"employee-records\")`. To remove\n",
    "privileges, the `revoke` op is similarly available."
   ]
  },
  {
   "cell_type": "markdown",
   "id": "f61d467e-a7a9-439b-80fd-99158549a355",
   "metadata": {
    "tags": []
   },
   "source": [
    "## But wait!\n",
    "\n",
    "Eagle-eyed readers would have noticed a difference between the code in this\n",
    "tutorial and the initial layout image. In particular, instead of a `RT.Role`\n",
    "relation connecting a `RT.WorksFor` relation with an `ET.Role`, the `RT.Role` in\n",
    "the actual code we used simply pointed at a string.\n",
    "\n",
    "We won't dive into this for now and leave it for another tutorial."
   ]
  }
 ],
 "metadata": {
  "kernelspec": {
   "display_name": "",
   "name": ""
  },
  "language_info": {
   "codemirror_mode": {
    "name": "ipython",
    "version": 3
   },
   "file_extension": ".py",
   "mimetype": "text/x-python",
   "name": "python",
   "nbconvert_exporter": "python",
   "pygments_lexer": "ipython3",
   "version": "3.10.4"
  }
 },
 "nbformat": 4,
 "nbformat_minor": 5
}
